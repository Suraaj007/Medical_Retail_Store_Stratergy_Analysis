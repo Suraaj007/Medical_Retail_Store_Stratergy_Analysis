{
 "cells": [
  {
   "cell_type": "code",
   "execution_count": 1,
   "id": "8c860d07",
   "metadata": {},
   "outputs": [],
   "source": [
    "import numpy as np\n",
    "import pandas as pd\n",
    "\n",
    "import matplotlib.pyplot as plt\n",
    "import seaborn as sns"
   ]
  },
  {
   "cell_type": "code",
   "execution_count": 2,
   "id": "decf9964",
   "metadata": {},
   "outputs": [
    {
     "data": {
      "text/html": [
       "<div>\n",
       "<style scoped>\n",
       "    .dataframe tbody tr th:only-of-type {\n",
       "        vertical-align: middle;\n",
       "    }\n",
       "\n",
       "    .dataframe tbody tr th {\n",
       "        vertical-align: top;\n",
       "    }\n",
       "\n",
       "    .dataframe thead th {\n",
       "        text-align: right;\n",
       "    }\n",
       "</style>\n",
       "<table border=\"1\" class=\"dataframe\">\n",
       "  <thead>\n",
       "    <tr style=\"text-align: right;\">\n",
       "      <th></th>\n",
       "      <th>Customer id</th>\n",
       "      <th>App User</th>\n",
       "      <th>Covid19 Medicine Sales</th>\n",
       "      <th>Other Medicine Sales</th>\n",
       "      <th>Redeemed points Flag</th>\n",
       "      <th>Transactions</th>\n",
       "      <th>last transaction date</th>\n",
       "      <th>DOB</th>\n",
       "      <th>EMAIL Flag</th>\n",
       "      <th>Gender</th>\n",
       "    </tr>\n",
       "  </thead>\n",
       "  <tbody>\n",
       "    <tr>\n",
       "      <th>0</th>\n",
       "      <td>863268612</td>\n",
       "      <td>1</td>\n",
       "      <td>22,035</td>\n",
       "      <td>-</td>\n",
       "      <td>No</td>\n",
       "      <td>11</td>\n",
       "      <td>12-11-2021</td>\n",
       "      <td>00-01-1900</td>\n",
       "      <td>EMAIL PRESENT</td>\n",
       "      <td>female</td>\n",
       "    </tr>\n",
       "    <tr>\n",
       "      <th>1</th>\n",
       "      <td>389739561</td>\n",
       "      <td>0</td>\n",
       "      <td>3,926</td>\n",
       "      <td>4,099</td>\n",
       "      <td>No</td>\n",
       "      <td>4</td>\n",
       "      <td>25-11-2021</td>\n",
       "      <td>00-01-1900</td>\n",
       "      <td>NO EMAIL</td>\n",
       "      <td>blank</td>\n",
       "    </tr>\n",
       "    <tr>\n",
       "      <th>2</th>\n",
       "      <td>446950605</td>\n",
       "      <td>0</td>\n",
       "      <td>8,031</td>\n",
       "      <td>-</td>\n",
       "      <td>No</td>\n",
       "      <td>4</td>\n",
       "      <td>11-10-2021</td>\n",
       "      <td>00-01-1900</td>\n",
       "      <td>NO EMAIL</td>\n",
       "      <td>blank</td>\n",
       "    </tr>\n",
       "    <tr>\n",
       "      <th>3</th>\n",
       "      <td>819143842</td>\n",
       "      <td>0</td>\n",
       "      <td>8,046</td>\n",
       "      <td>-</td>\n",
       "      <td>No</td>\n",
       "      <td>4</td>\n",
       "      <td>28-06-2021</td>\n",
       "      <td>00-01-1900</td>\n",
       "      <td>NO EMAIL</td>\n",
       "      <td>blank</td>\n",
       "    </tr>\n",
       "    <tr>\n",
       "      <th>4</th>\n",
       "      <td>530569572</td>\n",
       "      <td>0</td>\n",
       "      <td>8,046</td>\n",
       "      <td>-</td>\n",
       "      <td>No</td>\n",
       "      <td>4</td>\n",
       "      <td>18-11-2021</td>\n",
       "      <td>00-01-1900</td>\n",
       "      <td>NO EMAIL</td>\n",
       "      <td>blank</td>\n",
       "    </tr>\n",
       "    <tr>\n",
       "      <th>...</th>\n",
       "      <td>...</td>\n",
       "      <td>...</td>\n",
       "      <td>...</td>\n",
       "      <td>...</td>\n",
       "      <td>...</td>\n",
       "      <td>...</td>\n",
       "      <td>...</td>\n",
       "      <td>...</td>\n",
       "      <td>...</td>\n",
       "      <td>...</td>\n",
       "    </tr>\n",
       "    <tr>\n",
       "      <th>65963</th>\n",
       "      <td>848749306</td>\n",
       "      <td>0</td>\n",
       "      <td>-</td>\n",
       "      <td>11,14,341</td>\n",
       "      <td>No</td>\n",
       "      <td>1</td>\n",
       "      <td>12-09-2021</td>\n",
       "      <td>00-01-1900</td>\n",
       "      <td>EMAIL PRESENT</td>\n",
       "      <td>blank</td>\n",
       "    </tr>\n",
       "    <tr>\n",
       "      <th>65964</th>\n",
       "      <td>682210238</td>\n",
       "      <td>0</td>\n",
       "      <td>-</td>\n",
       "      <td>12,49,095</td>\n",
       "      <td>No</td>\n",
       "      <td>1</td>\n",
       "      <td>19-11-2021</td>\n",
       "      <td>00-01-1900</td>\n",
       "      <td>NO EMAIL</td>\n",
       "      <td>blank</td>\n",
       "    </tr>\n",
       "    <tr>\n",
       "      <th>65965</th>\n",
       "      <td>645430745</td>\n",
       "      <td>0</td>\n",
       "      <td>-</td>\n",
       "      <td>14,96,487</td>\n",
       "      <td>No</td>\n",
       "      <td>1</td>\n",
       "      <td>06-09-2021</td>\n",
       "      <td>00-01-1900</td>\n",
       "      <td>NO EMAIL</td>\n",
       "      <td>blank</td>\n",
       "    </tr>\n",
       "    <tr>\n",
       "      <th>65966</th>\n",
       "      <td>893585748</td>\n",
       "      <td>0</td>\n",
       "      <td>-</td>\n",
       "      <td>17,13,370</td>\n",
       "      <td>No</td>\n",
       "      <td>1</td>\n",
       "      <td>27-09-2021</td>\n",
       "      <td>00-01-1900</td>\n",
       "      <td>NO EMAIL</td>\n",
       "      <td>blank</td>\n",
       "    </tr>\n",
       "    <tr>\n",
       "      <th>65967</th>\n",
       "      <td>423162203</td>\n",
       "      <td>1</td>\n",
       "      <td>51,46,615</td>\n",
       "      <td>-</td>\n",
       "      <td>No</td>\n",
       "      <td>1</td>\n",
       "      <td>17-12-2020</td>\n",
       "      <td>00-01-1900</td>\n",
       "      <td>EMAIL PRESENT</td>\n",
       "      <td>male</td>\n",
       "    </tr>\n",
       "  </tbody>\n",
       "</table>\n",
       "<p>65968 rows × 10 columns</p>\n",
       "</div>"
      ],
      "text/plain": [
       "       Customer id  App User  Covid19 Medicine Sales   Other Medicine Sales   \\\n",
       "0        863268612         1                   22,035                   -      \n",
       "1        389739561         0                    3,926                  4,099   \n",
       "2        446950605         0                    8,031                   -      \n",
       "3        819143842         0                    8,046                   -      \n",
       "4        530569572         0                    8,046                   -      \n",
       "...            ...       ...                      ...                    ...   \n",
       "65963    848749306         0                     -                 11,14,341   \n",
       "65964    682210238         0                     -                 12,49,095   \n",
       "65965    645430745         0                     -                 14,96,487   \n",
       "65966    893585748         0                     -                 17,13,370   \n",
       "65967    423162203         1                51,46,615                   -      \n",
       "\n",
       "       Redeemed points Flag   Transactions  last transaction date   \\\n",
       "0                         No            11              12-11-2021   \n",
       "1                         No             4              25-11-2021   \n",
       "2                         No             4              11-10-2021   \n",
       "3                         No             4              28-06-2021   \n",
       "4                         No             4              18-11-2021   \n",
       "...                      ...           ...                     ...   \n",
       "65963                     No             1              12-09-2021   \n",
       "65964                     No             1              19-11-2021   \n",
       "65965                     No             1              06-09-2021   \n",
       "65966                     No             1              27-09-2021   \n",
       "65967                     No             1              17-12-2020   \n",
       "\n",
       "             DOB     EMAIL Flag   Gender   \n",
       "0      00-01-1900  EMAIL PRESENT   female  \n",
       "1      00-01-1900       NO EMAIL    blank  \n",
       "2      00-01-1900       NO EMAIL    blank  \n",
       "3      00-01-1900       NO EMAIL    blank  \n",
       "4      00-01-1900       NO EMAIL    blank  \n",
       "...           ...            ...      ...  \n",
       "65963  00-01-1900  EMAIL PRESENT    blank  \n",
       "65964  00-01-1900       NO EMAIL    blank  \n",
       "65965  00-01-1900       NO EMAIL    blank  \n",
       "65966  00-01-1900       NO EMAIL    blank  \n",
       "65967  00-01-1900  EMAIL PRESENT     male  \n",
       "\n",
       "[65968 rows x 10 columns]"
      ]
     },
     "execution_count": 2,
     "metadata": {},
     "output_type": "execute_result"
    }
   ],
   "source": [
    "df=pd.read_csv(\"Medical Retail Final CSV.csv\")\n",
    "\n",
    "df"
   ]
  },
  {
   "cell_type": "code",
   "execution_count": 3,
   "id": "1d8dc901",
   "metadata": {},
   "outputs": [
    {
     "data": {
      "text/plain": [
       "Customer id                  int64\n",
       "App User                     int64\n",
       " Covid19 Medicine Sales     object\n",
       " Other Medicine Sales       object\n",
       " Redeemed points Flag       object\n",
       "Transactions                 int64\n",
       " last transaction date      object\n",
       " DOB                        object\n",
       " EMAIL Flag                 object\n",
       " Gender                     object\n",
       "dtype: object"
      ]
     },
     "execution_count": 3,
     "metadata": {},
     "output_type": "execute_result"
    }
   ],
   "source": [
    "df.dtypes"
   ]
  },
  {
   "cell_type": "code",
   "execution_count": 4,
   "id": "a99c1d4b",
   "metadata": {},
   "outputs": [
    {
     "data": {
      "text/plain": [
       "Index(['Customer id', 'App User', ' Covid19 Medicine Sales ',\n",
       "       ' Other Medicine Sales ', ' Redeemed points Flag ', 'Transactions',\n",
       "       ' last transaction date ', ' DOB ', ' EMAIL Flag ', ' Gender '],\n",
       "      dtype='object')"
      ]
     },
     "execution_count": 4,
     "metadata": {},
     "output_type": "execute_result"
    }
   ],
   "source": [
    "df.columns"
   ]
  },
  {
   "cell_type": "code",
   "execution_count": 5,
   "id": "c04eaf87",
   "metadata": {},
   "outputs": [],
   "source": [
    "df.columns=df.columns.str.strip()"
   ]
  },
  {
   "cell_type": "code",
   "execution_count": 6,
   "id": "f0afbd8b",
   "metadata": {},
   "outputs": [
    {
     "data": {
      "text/plain": [
       "Index(['Customer id', 'App User', 'Covid19 Medicine Sales',\n",
       "       'Other Medicine Sales', 'Redeemed points Flag', 'Transactions',\n",
       "       'last transaction date', 'DOB', 'EMAIL Flag', 'Gender'],\n",
       "      dtype='object')"
      ]
     },
     "execution_count": 6,
     "metadata": {},
     "output_type": "execute_result"
    }
   ],
   "source": [
    "df.columns"
   ]
  },
  {
   "cell_type": "code",
   "execution_count": 7,
   "id": "e26100b5",
   "metadata": {},
   "outputs": [],
   "source": [
    "df['Other Medicine Sales']=df['Other Medicine Sales'].str.strip()\n",
    "df['Covid19 Medicine Sales']=df['Covid19 Medicine Sales'].str.strip()"
   ]
  },
  {
   "cell_type": "code",
   "execution_count": 8,
   "id": "659f2ab4",
   "metadata": {},
   "outputs": [
    {
     "data": {
      "text/html": [
       "<div>\n",
       "<style scoped>\n",
       "    .dataframe tbody tr th:only-of-type {\n",
       "        vertical-align: middle;\n",
       "    }\n",
       "\n",
       "    .dataframe tbody tr th {\n",
       "        vertical-align: top;\n",
       "    }\n",
       "\n",
       "    .dataframe thead th {\n",
       "        text-align: right;\n",
       "    }\n",
       "</style>\n",
       "<table border=\"1\" class=\"dataframe\">\n",
       "  <thead>\n",
       "    <tr style=\"text-align: right;\">\n",
       "      <th></th>\n",
       "      <th>Customer id</th>\n",
       "      <th>App User</th>\n",
       "      <th>Covid19 Medicine Sales</th>\n",
       "      <th>Other Medicine Sales</th>\n",
       "      <th>Redeemed points Flag</th>\n",
       "      <th>Transactions</th>\n",
       "      <th>last transaction date</th>\n",
       "      <th>DOB</th>\n",
       "      <th>EMAIL Flag</th>\n",
       "      <th>Gender</th>\n",
       "    </tr>\n",
       "  </thead>\n",
       "  <tbody>\n",
       "    <tr>\n",
       "      <th>0</th>\n",
       "      <td>863268612</td>\n",
       "      <td>1</td>\n",
       "      <td>22,035</td>\n",
       "      <td>0</td>\n",
       "      <td>No</td>\n",
       "      <td>11</td>\n",
       "      <td>12-11-2021</td>\n",
       "      <td>00-01-1900</td>\n",
       "      <td>EMAIL PRESENT</td>\n",
       "      <td>female</td>\n",
       "    </tr>\n",
       "    <tr>\n",
       "      <th>1</th>\n",
       "      <td>389739561</td>\n",
       "      <td>0</td>\n",
       "      <td>3,926</td>\n",
       "      <td>4,099</td>\n",
       "      <td>No</td>\n",
       "      <td>4</td>\n",
       "      <td>25-11-2021</td>\n",
       "      <td>00-01-1900</td>\n",
       "      <td>NO EMAIL</td>\n",
       "      <td>blank</td>\n",
       "    </tr>\n",
       "    <tr>\n",
       "      <th>2</th>\n",
       "      <td>446950605</td>\n",
       "      <td>0</td>\n",
       "      <td>8,031</td>\n",
       "      <td>0</td>\n",
       "      <td>No</td>\n",
       "      <td>4</td>\n",
       "      <td>11-10-2021</td>\n",
       "      <td>00-01-1900</td>\n",
       "      <td>NO EMAIL</td>\n",
       "      <td>blank</td>\n",
       "    </tr>\n",
       "    <tr>\n",
       "      <th>3</th>\n",
       "      <td>819143842</td>\n",
       "      <td>0</td>\n",
       "      <td>8,046</td>\n",
       "      <td>0</td>\n",
       "      <td>No</td>\n",
       "      <td>4</td>\n",
       "      <td>28-06-2021</td>\n",
       "      <td>00-01-1900</td>\n",
       "      <td>NO EMAIL</td>\n",
       "      <td>blank</td>\n",
       "    </tr>\n",
       "    <tr>\n",
       "      <th>4</th>\n",
       "      <td>530569572</td>\n",
       "      <td>0</td>\n",
       "      <td>8,046</td>\n",
       "      <td>0</td>\n",
       "      <td>No</td>\n",
       "      <td>4</td>\n",
       "      <td>18-11-2021</td>\n",
       "      <td>00-01-1900</td>\n",
       "      <td>NO EMAIL</td>\n",
       "      <td>blank</td>\n",
       "    </tr>\n",
       "    <tr>\n",
       "      <th>...</th>\n",
       "      <td>...</td>\n",
       "      <td>...</td>\n",
       "      <td>...</td>\n",
       "      <td>...</td>\n",
       "      <td>...</td>\n",
       "      <td>...</td>\n",
       "      <td>...</td>\n",
       "      <td>...</td>\n",
       "      <td>...</td>\n",
       "      <td>...</td>\n",
       "    </tr>\n",
       "    <tr>\n",
       "      <th>65963</th>\n",
       "      <td>848749306</td>\n",
       "      <td>0</td>\n",
       "      <td>0</td>\n",
       "      <td>11,14,341</td>\n",
       "      <td>No</td>\n",
       "      <td>1</td>\n",
       "      <td>12-09-2021</td>\n",
       "      <td>00-01-1900</td>\n",
       "      <td>EMAIL PRESENT</td>\n",
       "      <td>blank</td>\n",
       "    </tr>\n",
       "    <tr>\n",
       "      <th>65964</th>\n",
       "      <td>682210238</td>\n",
       "      <td>0</td>\n",
       "      <td>0</td>\n",
       "      <td>12,49,095</td>\n",
       "      <td>No</td>\n",
       "      <td>1</td>\n",
       "      <td>19-11-2021</td>\n",
       "      <td>00-01-1900</td>\n",
       "      <td>NO EMAIL</td>\n",
       "      <td>blank</td>\n",
       "    </tr>\n",
       "    <tr>\n",
       "      <th>65965</th>\n",
       "      <td>645430745</td>\n",
       "      <td>0</td>\n",
       "      <td>0</td>\n",
       "      <td>14,96,487</td>\n",
       "      <td>No</td>\n",
       "      <td>1</td>\n",
       "      <td>06-09-2021</td>\n",
       "      <td>00-01-1900</td>\n",
       "      <td>NO EMAIL</td>\n",
       "      <td>blank</td>\n",
       "    </tr>\n",
       "    <tr>\n",
       "      <th>65966</th>\n",
       "      <td>893585748</td>\n",
       "      <td>0</td>\n",
       "      <td>0</td>\n",
       "      <td>17,13,370</td>\n",
       "      <td>No</td>\n",
       "      <td>1</td>\n",
       "      <td>27-09-2021</td>\n",
       "      <td>00-01-1900</td>\n",
       "      <td>NO EMAIL</td>\n",
       "      <td>blank</td>\n",
       "    </tr>\n",
       "    <tr>\n",
       "      <th>65967</th>\n",
       "      <td>423162203</td>\n",
       "      <td>1</td>\n",
       "      <td>51,46,615</td>\n",
       "      <td>0</td>\n",
       "      <td>No</td>\n",
       "      <td>1</td>\n",
       "      <td>17-12-2020</td>\n",
       "      <td>00-01-1900</td>\n",
       "      <td>EMAIL PRESENT</td>\n",
       "      <td>male</td>\n",
       "    </tr>\n",
       "  </tbody>\n",
       "</table>\n",
       "<p>65968 rows × 10 columns</p>\n",
       "</div>"
      ],
      "text/plain": [
       "       Customer id  App User Covid19 Medicine Sales Other Medicine Sales  \\\n",
       "0        863268612         1                 22,035                    0   \n",
       "1        389739561         0                  3,926                4,099   \n",
       "2        446950605         0                  8,031                    0   \n",
       "3        819143842         0                  8,046                    0   \n",
       "4        530569572         0                  8,046                    0   \n",
       "...            ...       ...                    ...                  ...   \n",
       "65963    848749306         0                      0            11,14,341   \n",
       "65964    682210238         0                      0            12,49,095   \n",
       "65965    645430745         0                      0            14,96,487   \n",
       "65966    893585748         0                      0            17,13,370   \n",
       "65967    423162203         1              51,46,615                    0   \n",
       "\n",
       "      Redeemed points Flag  Transactions last transaction date         DOB  \\\n",
       "0                       No            11            12-11-2021  00-01-1900   \n",
       "1                       No             4            25-11-2021  00-01-1900   \n",
       "2                       No             4            11-10-2021  00-01-1900   \n",
       "3                       No             4            28-06-2021  00-01-1900   \n",
       "4                       No             4            18-11-2021  00-01-1900   \n",
       "...                    ...           ...                   ...         ...   \n",
       "65963                   No             1            12-09-2021  00-01-1900   \n",
       "65964                   No             1            19-11-2021  00-01-1900   \n",
       "65965                   No             1            06-09-2021  00-01-1900   \n",
       "65966                   No             1            27-09-2021  00-01-1900   \n",
       "65967                   No             1            17-12-2020  00-01-1900   \n",
       "\n",
       "          EMAIL Flag  Gender  \n",
       "0      EMAIL PRESENT  female  \n",
       "1           NO EMAIL   blank  \n",
       "2           NO EMAIL   blank  \n",
       "3           NO EMAIL   blank  \n",
       "4           NO EMAIL   blank  \n",
       "...              ...     ...  \n",
       "65963  EMAIL PRESENT   blank  \n",
       "65964       NO EMAIL   blank  \n",
       "65965       NO EMAIL   blank  \n",
       "65966       NO EMAIL   blank  \n",
       "65967  EMAIL PRESENT    male  \n",
       "\n",
       "[65968 rows x 10 columns]"
      ]
     },
     "execution_count": 8,
     "metadata": {},
     "output_type": "execute_result"
    }
   ],
   "source": [
    "df['Other Medicine Sales']=df['Other Medicine Sales'].replace('-','0')\n",
    "df['Covid19 Medicine Sales']=df['Covid19 Medicine Sales'].replace('-','0')\n",
    "df"
   ]
  },
  {
   "cell_type": "code",
   "execution_count": 9,
   "id": "95675302",
   "metadata": {},
   "outputs": [
    {
     "data": {
      "text/html": [
       "<div>\n",
       "<style scoped>\n",
       "    .dataframe tbody tr th:only-of-type {\n",
       "        vertical-align: middle;\n",
       "    }\n",
       "\n",
       "    .dataframe tbody tr th {\n",
       "        vertical-align: top;\n",
       "    }\n",
       "\n",
       "    .dataframe thead th {\n",
       "        text-align: right;\n",
       "    }\n",
       "</style>\n",
       "<table border=\"1\" class=\"dataframe\">\n",
       "  <thead>\n",
       "    <tr style=\"text-align: right;\">\n",
       "      <th></th>\n",
       "      <th>Customer id</th>\n",
       "      <th>App User</th>\n",
       "      <th>Covid19 Medicine Sales</th>\n",
       "      <th>Other Medicine Sales</th>\n",
       "      <th>Redeemed points Flag</th>\n",
       "      <th>Transactions</th>\n",
       "      <th>last transaction date</th>\n",
       "      <th>DOB</th>\n",
       "      <th>EMAIL Flag</th>\n",
       "      <th>Gender</th>\n",
       "    </tr>\n",
       "  </thead>\n",
       "  <tbody>\n",
       "    <tr>\n",
       "      <th>0</th>\n",
       "      <td>863268612</td>\n",
       "      <td>1</td>\n",
       "      <td>22035</td>\n",
       "      <td>0</td>\n",
       "      <td>No</td>\n",
       "      <td>11</td>\n",
       "      <td>12-11-2021</td>\n",
       "      <td>00-01-1900</td>\n",
       "      <td>EMAIL PRESENT</td>\n",
       "      <td>female</td>\n",
       "    </tr>\n",
       "    <tr>\n",
       "      <th>1</th>\n",
       "      <td>389739561</td>\n",
       "      <td>0</td>\n",
       "      <td>3926</td>\n",
       "      <td>4099</td>\n",
       "      <td>No</td>\n",
       "      <td>4</td>\n",
       "      <td>25-11-2021</td>\n",
       "      <td>00-01-1900</td>\n",
       "      <td>NO EMAIL</td>\n",
       "      <td>blank</td>\n",
       "    </tr>\n",
       "    <tr>\n",
       "      <th>2</th>\n",
       "      <td>446950605</td>\n",
       "      <td>0</td>\n",
       "      <td>8031</td>\n",
       "      <td>0</td>\n",
       "      <td>No</td>\n",
       "      <td>4</td>\n",
       "      <td>11-10-2021</td>\n",
       "      <td>00-01-1900</td>\n",
       "      <td>NO EMAIL</td>\n",
       "      <td>blank</td>\n",
       "    </tr>\n",
       "    <tr>\n",
       "      <th>3</th>\n",
       "      <td>819143842</td>\n",
       "      <td>0</td>\n",
       "      <td>8046</td>\n",
       "      <td>0</td>\n",
       "      <td>No</td>\n",
       "      <td>4</td>\n",
       "      <td>28-06-2021</td>\n",
       "      <td>00-01-1900</td>\n",
       "      <td>NO EMAIL</td>\n",
       "      <td>blank</td>\n",
       "    </tr>\n",
       "    <tr>\n",
       "      <th>4</th>\n",
       "      <td>530569572</td>\n",
       "      <td>0</td>\n",
       "      <td>8046</td>\n",
       "      <td>0</td>\n",
       "      <td>No</td>\n",
       "      <td>4</td>\n",
       "      <td>18-11-2021</td>\n",
       "      <td>00-01-1900</td>\n",
       "      <td>NO EMAIL</td>\n",
       "      <td>blank</td>\n",
       "    </tr>\n",
       "    <tr>\n",
       "      <th>...</th>\n",
       "      <td>...</td>\n",
       "      <td>...</td>\n",
       "      <td>...</td>\n",
       "      <td>...</td>\n",
       "      <td>...</td>\n",
       "      <td>...</td>\n",
       "      <td>...</td>\n",
       "      <td>...</td>\n",
       "      <td>...</td>\n",
       "      <td>...</td>\n",
       "    </tr>\n",
       "    <tr>\n",
       "      <th>65963</th>\n",
       "      <td>848749306</td>\n",
       "      <td>0</td>\n",
       "      <td>0</td>\n",
       "      <td>1114341</td>\n",
       "      <td>No</td>\n",
       "      <td>1</td>\n",
       "      <td>12-09-2021</td>\n",
       "      <td>00-01-1900</td>\n",
       "      <td>EMAIL PRESENT</td>\n",
       "      <td>blank</td>\n",
       "    </tr>\n",
       "    <tr>\n",
       "      <th>65964</th>\n",
       "      <td>682210238</td>\n",
       "      <td>0</td>\n",
       "      <td>0</td>\n",
       "      <td>1249095</td>\n",
       "      <td>No</td>\n",
       "      <td>1</td>\n",
       "      <td>19-11-2021</td>\n",
       "      <td>00-01-1900</td>\n",
       "      <td>NO EMAIL</td>\n",
       "      <td>blank</td>\n",
       "    </tr>\n",
       "    <tr>\n",
       "      <th>65965</th>\n",
       "      <td>645430745</td>\n",
       "      <td>0</td>\n",
       "      <td>0</td>\n",
       "      <td>1496487</td>\n",
       "      <td>No</td>\n",
       "      <td>1</td>\n",
       "      <td>06-09-2021</td>\n",
       "      <td>00-01-1900</td>\n",
       "      <td>NO EMAIL</td>\n",
       "      <td>blank</td>\n",
       "    </tr>\n",
       "    <tr>\n",
       "      <th>65966</th>\n",
       "      <td>893585748</td>\n",
       "      <td>0</td>\n",
       "      <td>0</td>\n",
       "      <td>1713370</td>\n",
       "      <td>No</td>\n",
       "      <td>1</td>\n",
       "      <td>27-09-2021</td>\n",
       "      <td>00-01-1900</td>\n",
       "      <td>NO EMAIL</td>\n",
       "      <td>blank</td>\n",
       "    </tr>\n",
       "    <tr>\n",
       "      <th>65967</th>\n",
       "      <td>423162203</td>\n",
       "      <td>1</td>\n",
       "      <td>5146615</td>\n",
       "      <td>0</td>\n",
       "      <td>No</td>\n",
       "      <td>1</td>\n",
       "      <td>17-12-2020</td>\n",
       "      <td>00-01-1900</td>\n",
       "      <td>EMAIL PRESENT</td>\n",
       "      <td>male</td>\n",
       "    </tr>\n",
       "  </tbody>\n",
       "</table>\n",
       "<p>65968 rows × 10 columns</p>\n",
       "</div>"
      ],
      "text/plain": [
       "       Customer id  App User Covid19 Medicine Sales Other Medicine Sales  \\\n",
       "0        863268612         1                  22035                    0   \n",
       "1        389739561         0                   3926                 4099   \n",
       "2        446950605         0                   8031                    0   \n",
       "3        819143842         0                   8046                    0   \n",
       "4        530569572         0                   8046                    0   \n",
       "...            ...       ...                    ...                  ...   \n",
       "65963    848749306         0                      0              1114341   \n",
       "65964    682210238         0                      0              1249095   \n",
       "65965    645430745         0                      0              1496487   \n",
       "65966    893585748         0                      0              1713370   \n",
       "65967    423162203         1                5146615                    0   \n",
       "\n",
       "      Redeemed points Flag  Transactions last transaction date         DOB  \\\n",
       "0                       No            11            12-11-2021  00-01-1900   \n",
       "1                       No             4            25-11-2021  00-01-1900   \n",
       "2                       No             4            11-10-2021  00-01-1900   \n",
       "3                       No             4            28-06-2021  00-01-1900   \n",
       "4                       No             4            18-11-2021  00-01-1900   \n",
       "...                    ...           ...                   ...         ...   \n",
       "65963                   No             1            12-09-2021  00-01-1900   \n",
       "65964                   No             1            19-11-2021  00-01-1900   \n",
       "65965                   No             1            06-09-2021  00-01-1900   \n",
       "65966                   No             1            27-09-2021  00-01-1900   \n",
       "65967                   No             1            17-12-2020  00-01-1900   \n",
       "\n",
       "          EMAIL Flag  Gender  \n",
       "0      EMAIL PRESENT  female  \n",
       "1           NO EMAIL   blank  \n",
       "2           NO EMAIL   blank  \n",
       "3           NO EMAIL   blank  \n",
       "4           NO EMAIL   blank  \n",
       "...              ...     ...  \n",
       "65963  EMAIL PRESENT   blank  \n",
       "65964       NO EMAIL   blank  \n",
       "65965       NO EMAIL   blank  \n",
       "65966       NO EMAIL   blank  \n",
       "65967  EMAIL PRESENT    male  \n",
       "\n",
       "[65968 rows x 10 columns]"
      ]
     },
     "execution_count": 9,
     "metadata": {},
     "output_type": "execute_result"
    }
   ],
   "source": [
    "df['Other Medicine Sales']=df['Other Medicine Sales'].str.replace(',','')\n",
    "df['Covid19 Medicine Sales']=df['Covid19 Medicine Sales'].str.replace(',','')\n",
    "df"
   ]
  },
  {
   "cell_type": "code",
   "execution_count": null,
   "id": "7ee4b35c",
   "metadata": {},
   "outputs": [],
   "source": []
  },
  {
   "cell_type": "code",
   "execution_count": 10,
   "id": "9ea5ae62",
   "metadata": {},
   "outputs": [],
   "source": [
    "df['Other Medicine Sales']=df['Other Medicine Sales'].astype(float)\n",
    "df['Covid19 Medicine Sales']=df['Covid19 Medicine Sales'].astype(float)"
   ]
  },
  {
   "cell_type": "code",
   "execution_count": 11,
   "id": "52a367e6",
   "metadata": {},
   "outputs": [
    {
     "name": "stdout",
     "output_type": "stream",
     "text": [
      "<class 'pandas.core.frame.DataFrame'>\n",
      "RangeIndex: 65968 entries, 0 to 65967\n",
      "Data columns (total 10 columns):\n",
      " #   Column                  Non-Null Count  Dtype  \n",
      "---  ------                  --------------  -----  \n",
      " 0   Customer id             65968 non-null  int64  \n",
      " 1   App User                65968 non-null  int64  \n",
      " 2   Covid19 Medicine Sales  65968 non-null  float64\n",
      " 3   Other Medicine Sales    65968 non-null  float64\n",
      " 4   Redeemed points Flag    65968 non-null  object \n",
      " 5   Transactions            65968 non-null  int64  \n",
      " 6   last transaction date   65968 non-null  object \n",
      " 7   DOB                     65968 non-null  object \n",
      " 8   EMAIL Flag              65968 non-null  object \n",
      " 9   Gender                  65968 non-null  object \n",
      "dtypes: float64(2), int64(3), object(5)\n",
      "memory usage: 5.0+ MB\n"
     ]
    }
   ],
   "source": [
    "df.info()"
   ]
  },
  {
   "cell_type": "code",
   "execution_count": null,
   "id": "9d3975b1",
   "metadata": {},
   "outputs": [],
   "source": []
  },
  {
   "cell_type": "code",
   "execution_count": 12,
   "id": "37f740a0",
   "metadata": {},
   "outputs": [],
   "source": [
    "## Univariate Analysis"
   ]
  },
  {
   "cell_type": "code",
   "execution_count": 13,
   "id": "42c0ef27",
   "metadata": {},
   "outputs": [
    {
     "data": {
      "text/html": [
       "<div>\n",
       "<style scoped>\n",
       "    .dataframe tbody tr th:only-of-type {\n",
       "        vertical-align: middle;\n",
       "    }\n",
       "\n",
       "    .dataframe tbody tr th {\n",
       "        vertical-align: top;\n",
       "    }\n",
       "\n",
       "    .dataframe thead th {\n",
       "        text-align: right;\n",
       "    }\n",
       "</style>\n",
       "<table border=\"1\" class=\"dataframe\">\n",
       "  <thead>\n",
       "    <tr style=\"text-align: right;\">\n",
       "      <th></th>\n",
       "      <th>Customer id</th>\n",
       "      <th>App User</th>\n",
       "      <th>Covid19 Medicine Sales</th>\n",
       "      <th>Other Medicine Sales</th>\n",
       "      <th>Redeemed points Flag</th>\n",
       "      <th>Transactions</th>\n",
       "      <th>last transaction date</th>\n",
       "      <th>DOB</th>\n",
       "      <th>EMAIL Flag</th>\n",
       "      <th>Gender</th>\n",
       "    </tr>\n",
       "  </thead>\n",
       "  <tbody>\n",
       "    <tr>\n",
       "      <th>count</th>\n",
       "      <td>6.596800e+04</td>\n",
       "      <td>65968.000000</td>\n",
       "      <td>6.596800e+04</td>\n",
       "      <td>6.596800e+04</td>\n",
       "      <td>65968</td>\n",
       "      <td>65968.000000</td>\n",
       "      <td>65968</td>\n",
       "      <td>65968</td>\n",
       "      <td>65968</td>\n",
       "      <td>65968</td>\n",
       "    </tr>\n",
       "    <tr>\n",
       "      <th>unique</th>\n",
       "      <td>NaN</td>\n",
       "      <td>NaN</td>\n",
       "      <td>NaN</td>\n",
       "      <td>NaN</td>\n",
       "      <td>2</td>\n",
       "      <td>NaN</td>\n",
       "      <td>440</td>\n",
       "      <td>2101</td>\n",
       "      <td>2</td>\n",
       "      <td>3</td>\n",
       "    </tr>\n",
       "    <tr>\n",
       "      <th>top</th>\n",
       "      <td>NaN</td>\n",
       "      <td>NaN</td>\n",
       "      <td>NaN</td>\n",
       "      <td>NaN</td>\n",
       "      <td>No</td>\n",
       "      <td>NaN</td>\n",
       "      <td>27-11-2021</td>\n",
       "      <td>00-01-1900</td>\n",
       "      <td>NO EMAIL</td>\n",
       "      <td>blank</td>\n",
       "    </tr>\n",
       "    <tr>\n",
       "      <th>freq</th>\n",
       "      <td>NaN</td>\n",
       "      <td>NaN</td>\n",
       "      <td>NaN</td>\n",
       "      <td>NaN</td>\n",
       "      <td>65807</td>\n",
       "      <td>NaN</td>\n",
       "      <td>1675</td>\n",
       "      <td>63610</td>\n",
       "      <td>37203</td>\n",
       "      <td>48297</td>\n",
       "    </tr>\n",
       "    <tr>\n",
       "      <th>mean</th>\n",
       "      <td>4.581555e+08</td>\n",
       "      <td>0.251031</td>\n",
       "      <td>2.039726e+04</td>\n",
       "      <td>6.891090e+04</td>\n",
       "      <td>NaN</td>\n",
       "      <td>3.505866</td>\n",
       "      <td>NaN</td>\n",
       "      <td>NaN</td>\n",
       "      <td>NaN</td>\n",
       "      <td>NaN</td>\n",
       "    </tr>\n",
       "    <tr>\n",
       "      <th>std</th>\n",
       "      <td>3.041646e+08</td>\n",
       "      <td>0.433609</td>\n",
       "      <td>3.885862e+04</td>\n",
       "      <td>2.569398e+05</td>\n",
       "      <td>NaN</td>\n",
       "      <td>3.909522</td>\n",
       "      <td>NaN</td>\n",
       "      <td>NaN</td>\n",
       "      <td>NaN</td>\n",
       "      <td>NaN</td>\n",
       "    </tr>\n",
       "    <tr>\n",
       "      <th>min</th>\n",
       "      <td>8.946000e+03</td>\n",
       "      <td>0.000000</td>\n",
       "      <td>0.000000e+00</td>\n",
       "      <td>0.000000e+00</td>\n",
       "      <td>NaN</td>\n",
       "      <td>1.000000</td>\n",
       "      <td>NaN</td>\n",
       "      <td>NaN</td>\n",
       "      <td>NaN</td>\n",
       "      <td>NaN</td>\n",
       "    </tr>\n",
       "    <tr>\n",
       "      <th>25%</th>\n",
       "      <td>1.750585e+08</td>\n",
       "      <td>0.000000</td>\n",
       "      <td>7.157000e+03</td>\n",
       "      <td>0.000000e+00</td>\n",
       "      <td>NaN</td>\n",
       "      <td>2.000000</td>\n",
       "      <td>NaN</td>\n",
       "      <td>NaN</td>\n",
       "      <td>NaN</td>\n",
       "      <td>NaN</td>\n",
       "    </tr>\n",
       "    <tr>\n",
       "      <th>50%</th>\n",
       "      <td>4.507221e+08</td>\n",
       "      <td>0.000000</td>\n",
       "      <td>1.333800e+04</td>\n",
       "      <td>8.892000e+03</td>\n",
       "      <td>NaN</td>\n",
       "      <td>2.000000</td>\n",
       "      <td>NaN</td>\n",
       "      <td>NaN</td>\n",
       "      <td>NaN</td>\n",
       "      <td>NaN</td>\n",
       "    </tr>\n",
       "    <tr>\n",
       "      <th>75%</th>\n",
       "      <td>7.231109e+08</td>\n",
       "      <td>1.000000</td>\n",
       "      <td>2.403100e+04</td>\n",
       "      <td>5.732475e+04</td>\n",
       "      <td>NaN</td>\n",
       "      <td>4.000000</td>\n",
       "      <td>NaN</td>\n",
       "      <td>NaN</td>\n",
       "      <td>NaN</td>\n",
       "      <td>NaN</td>\n",
       "    </tr>\n",
       "    <tr>\n",
       "      <th>max</th>\n",
       "      <td>1.161100e+09</td>\n",
       "      <td>1.000000</td>\n",
       "      <td>5.146615e+06</td>\n",
       "      <td>2.889398e+07</td>\n",
       "      <td>NaN</td>\n",
       "      <td>268.000000</td>\n",
       "      <td>NaN</td>\n",
       "      <td>NaN</td>\n",
       "      <td>NaN</td>\n",
       "      <td>NaN</td>\n",
       "    </tr>\n",
       "  </tbody>\n",
       "</table>\n",
       "</div>"
      ],
      "text/plain": [
       "         Customer id      App User  Covid19 Medicine Sales  \\\n",
       "count   6.596800e+04  65968.000000            6.596800e+04   \n",
       "unique           NaN           NaN                     NaN   \n",
       "top              NaN           NaN                     NaN   \n",
       "freq             NaN           NaN                     NaN   \n",
       "mean    4.581555e+08      0.251031            2.039726e+04   \n",
       "std     3.041646e+08      0.433609            3.885862e+04   \n",
       "min     8.946000e+03      0.000000            0.000000e+00   \n",
       "25%     1.750585e+08      0.000000            7.157000e+03   \n",
       "50%     4.507221e+08      0.000000            1.333800e+04   \n",
       "75%     7.231109e+08      1.000000            2.403100e+04   \n",
       "max     1.161100e+09      1.000000            5.146615e+06   \n",
       "\n",
       "        Other Medicine Sales Redeemed points Flag  Transactions  \\\n",
       "count           6.596800e+04                65968  65968.000000   \n",
       "unique                   NaN                    2           NaN   \n",
       "top                      NaN                   No           NaN   \n",
       "freq                     NaN                65807           NaN   \n",
       "mean            6.891090e+04                  NaN      3.505866   \n",
       "std             2.569398e+05                  NaN      3.909522   \n",
       "min             0.000000e+00                  NaN      1.000000   \n",
       "25%             0.000000e+00                  NaN      2.000000   \n",
       "50%             8.892000e+03                  NaN      2.000000   \n",
       "75%             5.732475e+04                  NaN      4.000000   \n",
       "max             2.889398e+07                  NaN    268.000000   \n",
       "\n",
       "       last transaction date         DOB EMAIL Flag Gender  \n",
       "count                  65968       65968      65968  65968  \n",
       "unique                   440        2101          2      3  \n",
       "top               27-11-2021  00-01-1900   NO EMAIL  blank  \n",
       "freq                    1675       63610      37203  48297  \n",
       "mean                     NaN         NaN        NaN    NaN  \n",
       "std                      NaN         NaN        NaN    NaN  \n",
       "min                      NaN         NaN        NaN    NaN  \n",
       "25%                      NaN         NaN        NaN    NaN  \n",
       "50%                      NaN         NaN        NaN    NaN  \n",
       "75%                      NaN         NaN        NaN    NaN  \n",
       "max                      NaN         NaN        NaN    NaN  "
      ]
     },
     "execution_count": 13,
     "metadata": {},
     "output_type": "execute_result"
    }
   ],
   "source": [
    "df.describe(include='all')\n"
   ]
  },
  {
   "cell_type": "code",
   "execution_count": 14,
   "id": "af8bf871",
   "metadata": {},
   "outputs": [
    {
     "data": {
      "text/plain": [
       "<AxesSubplot:xlabel='Other Medicine Sales'>"
      ]
     },
     "execution_count": 14,
     "metadata": {},
     "output_type": "execute_result"
    },
    {
     "data": {
      "image/png": "[encoded data removed]",
      "text/plain": [
       "<Figure size 1440x720 with 1 Axes>"
      ]
     },
     "metadata": {
      "needs_background": "light"
     },
     "output_type": "display_data"
    },
    {
     "data": {
      "image/png": "[encoded data removed]",
      "text/plain": [
       "<Figure size 1440x720 with 1 Axes>"
      ]
     },
     "metadata": {
      "needs_background": "light"
     },
     "output_type": "display_data"
    }
   ],
   "source": [
    "plt.figure(figsize=(20,10))\n",
    "\n",
    "plt.subplot(2,1,1)\n",
    "sns.boxenplot(x=df['Covid19 Medicine Sales'],showfliers=True)\n",
    "\n",
    "plt.figure(figsize=(20,10))\n",
    "plt.subplot(2,1,2)\n",
    "sns.boxenplot(x=df['Other Medicine Sales'],showfliers=True)\n",
    "\n"
   ]
  },
  {
   "cell_type": "code",
   "execution_count": 15,
   "id": "44ac5533",
   "metadata": {},
   "outputs": [],
   "source": [
    "# Inference\n",
    "# The data in 'Covid19 Medicine Sales' column is right skewed \n",
    "#The data in 'Other Medicine Sales' column is right skewed with few ouliers."
   ]
  },
  {
   "cell_type": "code",
   "execution_count": 16,
   "id": "7d81d21d",
   "metadata": {},
   "outputs": [
    {
     "data": {
      "image/png": "[encoded data removed]",
      "text/plain": [
       "<Figure size 1440x720 with 1 Axes>"
      ]
     },
     "metadata": {
      "needs_background": "light"
     },
     "output_type": "display_data"
    }
   ],
   "source": [
    "plt.figure(figsize=(20,10))\n",
    "sns.boxenplot(x=df['Transactions'],showfliers=True)\n",
    "plt.show()"
   ]
  },
  {
   "cell_type": "code",
   "execution_count": 17,
   "id": "d667018f",
   "metadata": {},
   "outputs": [],
   "source": [
    "# Inference\n",
    "# Data in 'Transactions' column is rightly skewed.\n",
    "# Most of the transactions are between 0 to 40."
   ]
  },
  {
   "cell_type": "code",
   "execution_count": 18,
   "id": "3fb90447",
   "metadata": {},
   "outputs": [
    {
     "data": {
      "text/plain": [
       "Index(['Customer id', 'App User', 'Covid19 Medicine Sales',\n",
       "       'Other Medicine Sales', 'Redeemed points Flag', 'Transactions',\n",
       "       'last transaction date', 'DOB', 'EMAIL Flag', 'Gender'],\n",
       "      dtype='object')"
      ]
     },
     "execution_count": 18,
     "metadata": {},
     "output_type": "execute_result"
    }
   ],
   "source": [
    "df.columns"
   ]
  },
  {
   "cell_type": "code",
   "execution_count": 19,
   "id": "fc42f854",
   "metadata": {},
   "outputs": [
    {
     "data": {
      "image/png": "[encoded data removed]",
      "text/plain": [
       "<Figure size 1440x1440 with 4 Axes>"
      ]
     },
     "metadata": {
      "needs_background": "light"
     },
     "output_type": "display_data"
    }
   ],
   "source": [
    "plt.figure(figsize=(20,20))\n",
    "for i,col in enumerate(['Redeemed points Flag','App User','EMAIL Flag', 'Gender']):\n",
    "    plt.subplot(2,2,i+1)\n",
    "    sns.histplot(df[col])"
   ]
  },
  {
   "cell_type": "code",
   "execution_count": 20,
   "id": "b3de5b6a",
   "metadata": {},
   "outputs": [],
   "source": [
    "# # Inference\n",
    "# 1 Majority of the consumers have not reedemed their loyalty points.\n",
    "# 2 Majority of consumers are opting  for the service from-physical visit to the store/ \n",
    "#   phone call to the store/ orders from alternate aggregators such as Amazon from the store.\n",
    "# 3 While providing personal information consumer are more likely to provide Email address rather than their gender."
   ]
  },
  {
   "cell_type": "code",
   "execution_count": null,
   "id": "f62a339b",
   "metadata": {},
   "outputs": [],
   "source": []
  },
  {
   "cell_type": "code",
   "execution_count": 21,
   "id": "9d42ff80",
   "metadata": {},
   "outputs": [],
   "source": [
    "# Bivariate Analysis"
   ]
  },
  {
   "cell_type": "code",
   "execution_count": null,
   "id": "82ac54e7",
   "metadata": {},
   "outputs": [],
   "source": []
  },
  {
   "cell_type": "code",
   "execution_count": 22,
   "id": "6ef5f238",
   "metadata": {},
   "outputs": [
    {
     "data": {
      "text/html": [
       "<div>\n",
       "<style scoped>\n",
       "    .dataframe tbody tr th:only-of-type {\n",
       "        vertical-align: middle;\n",
       "    }\n",
       "\n",
       "    .dataframe tbody tr th {\n",
       "        vertical-align: top;\n",
       "    }\n",
       "\n",
       "    .dataframe thead th {\n",
       "        text-align: right;\n",
       "    }\n",
       "</style>\n",
       "<table border=\"1\" class=\"dataframe\">\n",
       "  <thead>\n",
       "    <tr style=\"text-align: right;\">\n",
       "      <th></th>\n",
       "      <th>Customer id</th>\n",
       "      <th>App User</th>\n",
       "      <th>Covid19 Medicine Sales</th>\n",
       "      <th>Other Medicine Sales</th>\n",
       "      <th>Redeemed points Flag</th>\n",
       "      <th>Transactions</th>\n",
       "      <th>last transaction date</th>\n",
       "      <th>DOB</th>\n",
       "      <th>EMAIL Flag</th>\n",
       "      <th>Gender</th>\n",
       "      <th>Total_sale</th>\n",
       "    </tr>\n",
       "  </thead>\n",
       "  <tbody>\n",
       "    <tr>\n",
       "      <th>0</th>\n",
       "      <td>863268612</td>\n",
       "      <td>1</td>\n",
       "      <td>22035.0</td>\n",
       "      <td>0.0</td>\n",
       "      <td>No</td>\n",
       "      <td>11</td>\n",
       "      <td>12-11-2021</td>\n",
       "      <td>00-01-1900</td>\n",
       "      <td>EMAIL PRESENT</td>\n",
       "      <td>female</td>\n",
       "      <td>22035.0</td>\n",
       "    </tr>\n",
       "    <tr>\n",
       "      <th>1</th>\n",
       "      <td>389739561</td>\n",
       "      <td>0</td>\n",
       "      <td>3926.0</td>\n",
       "      <td>4099.0</td>\n",
       "      <td>No</td>\n",
       "      <td>4</td>\n",
       "      <td>25-11-2021</td>\n",
       "      <td>00-01-1900</td>\n",
       "      <td>NO EMAIL</td>\n",
       "      <td>blank</td>\n",
       "      <td>8025.0</td>\n",
       "    </tr>\n",
       "    <tr>\n",
       "      <th>2</th>\n",
       "      <td>446950605</td>\n",
       "      <td>0</td>\n",
       "      <td>8031.0</td>\n",
       "      <td>0.0</td>\n",
       "      <td>No</td>\n",
       "      <td>4</td>\n",
       "      <td>11-10-2021</td>\n",
       "      <td>00-01-1900</td>\n",
       "      <td>NO EMAIL</td>\n",
       "      <td>blank</td>\n",
       "      <td>8031.0</td>\n",
       "    </tr>\n",
       "    <tr>\n",
       "      <th>3</th>\n",
       "      <td>819143842</td>\n",
       "      <td>0</td>\n",
       "      <td>8046.0</td>\n",
       "      <td>0.0</td>\n",
       "      <td>No</td>\n",
       "      <td>4</td>\n",
       "      <td>28-06-2021</td>\n",
       "      <td>00-01-1900</td>\n",
       "      <td>NO EMAIL</td>\n",
       "      <td>blank</td>\n",
       "      <td>8046.0</td>\n",
       "    </tr>\n",
       "    <tr>\n",
       "      <th>4</th>\n",
       "      <td>530569572</td>\n",
       "      <td>0</td>\n",
       "      <td>8046.0</td>\n",
       "      <td>0.0</td>\n",
       "      <td>No</td>\n",
       "      <td>4</td>\n",
       "      <td>18-11-2021</td>\n",
       "      <td>00-01-1900</td>\n",
       "      <td>NO EMAIL</td>\n",
       "      <td>blank</td>\n",
       "      <td>8046.0</td>\n",
       "    </tr>\n",
       "    <tr>\n",
       "      <th>...</th>\n",
       "      <td>...</td>\n",
       "      <td>...</td>\n",
       "      <td>...</td>\n",
       "      <td>...</td>\n",
       "      <td>...</td>\n",
       "      <td>...</td>\n",
       "      <td>...</td>\n",
       "      <td>...</td>\n",
       "      <td>...</td>\n",
       "      <td>...</td>\n",
       "      <td>...</td>\n",
       "    </tr>\n",
       "    <tr>\n",
       "      <th>65963</th>\n",
       "      <td>848749306</td>\n",
       "      <td>0</td>\n",
       "      <td>0.0</td>\n",
       "      <td>1114341.0</td>\n",
       "      <td>No</td>\n",
       "      <td>1</td>\n",
       "      <td>12-09-2021</td>\n",
       "      <td>00-01-1900</td>\n",
       "      <td>EMAIL PRESENT</td>\n",
       "      <td>blank</td>\n",
       "      <td>1114341.0</td>\n",
       "    </tr>\n",
       "    <tr>\n",
       "      <th>65964</th>\n",
       "      <td>682210238</td>\n",
       "      <td>0</td>\n",
       "      <td>0.0</td>\n",
       "      <td>1249095.0</td>\n",
       "      <td>No</td>\n",
       "      <td>1</td>\n",
       "      <td>19-11-2021</td>\n",
       "      <td>00-01-1900</td>\n",
       "      <td>NO EMAIL</td>\n",
       "      <td>blank</td>\n",
       "      <td>1249095.0</td>\n",
       "    </tr>\n",
       "    <tr>\n",
       "      <th>65965</th>\n",
       "      <td>645430745</td>\n",
       "      <td>0</td>\n",
       "      <td>0.0</td>\n",
       "      <td>1496487.0</td>\n",
       "      <td>No</td>\n",
       "      <td>1</td>\n",
       "      <td>06-09-2021</td>\n",
       "      <td>00-01-1900</td>\n",
       "      <td>NO EMAIL</td>\n",
       "      <td>blank</td>\n",
       "      <td>1496487.0</td>\n",
       "    </tr>\n",
       "    <tr>\n",
       "      <th>65966</th>\n",
       "      <td>893585748</td>\n",
       "      <td>0</td>\n",
       "      <td>0.0</td>\n",
       "      <td>1713370.0</td>\n",
       "      <td>No</td>\n",
       "      <td>1</td>\n",
       "      <td>27-09-2021</td>\n",
       "      <td>00-01-1900</td>\n",
       "      <td>NO EMAIL</td>\n",
       "      <td>blank</td>\n",
       "      <td>1713370.0</td>\n",
       "    </tr>\n",
       "    <tr>\n",
       "      <th>65967</th>\n",
       "      <td>423162203</td>\n",
       "      <td>1</td>\n",
       "      <td>5146615.0</td>\n",
       "      <td>0.0</td>\n",
       "      <td>No</td>\n",
       "      <td>1</td>\n",
       "      <td>17-12-2020</td>\n",
       "      <td>00-01-1900</td>\n",
       "      <td>EMAIL PRESENT</td>\n",
       "      <td>male</td>\n",
       "      <td>5146615.0</td>\n",
       "    </tr>\n",
       "  </tbody>\n",
       "</table>\n",
       "<p>65968 rows × 11 columns</p>\n",
       "</div>"
      ],
      "text/plain": [
       "       Customer id  App User  Covid19 Medicine Sales  Other Medicine Sales  \\\n",
       "0        863268612         1                 22035.0                   0.0   \n",
       "1        389739561         0                  3926.0                4099.0   \n",
       "2        446950605         0                  8031.0                   0.0   \n",
       "3        819143842         0                  8046.0                   0.0   \n",
       "4        530569572         0                  8046.0                   0.0   \n",
       "...            ...       ...                     ...                   ...   \n",
       "65963    848749306         0                     0.0             1114341.0   \n",
       "65964    682210238         0                     0.0             1249095.0   \n",
       "65965    645430745         0                     0.0             1496487.0   \n",
       "65966    893585748         0                     0.0             1713370.0   \n",
       "65967    423162203         1               5146615.0                   0.0   \n",
       "\n",
       "      Redeemed points Flag  Transactions last transaction date         DOB  \\\n",
       "0                       No            11            12-11-2021  00-01-1900   \n",
       "1                       No             4            25-11-2021  00-01-1900   \n",
       "2                       No             4            11-10-2021  00-01-1900   \n",
       "3                       No             4            28-06-2021  00-01-1900   \n",
       "4                       No             4            18-11-2021  00-01-1900   \n",
       "...                    ...           ...                   ...         ...   \n",
       "65963                   No             1            12-09-2021  00-01-1900   \n",
       "65964                   No             1            19-11-2021  00-01-1900   \n",
       "65965                   No             1            06-09-2021  00-01-1900   \n",
       "65966                   No             1            27-09-2021  00-01-1900   \n",
       "65967                   No             1            17-12-2020  00-01-1900   \n",
       "\n",
       "          EMAIL Flag  Gender  Total_sale  \n",
       "0      EMAIL PRESENT  female     22035.0  \n",
       "1           NO EMAIL   blank      8025.0  \n",
       "2           NO EMAIL   blank      8031.0  \n",
       "3           NO EMAIL   blank      8046.0  \n",
       "4           NO EMAIL   blank      8046.0  \n",
       "...              ...     ...         ...  \n",
       "65963  EMAIL PRESENT   blank   1114341.0  \n",
       "65964       NO EMAIL   blank   1249095.0  \n",
       "65965       NO EMAIL   blank   1496487.0  \n",
       "65966       NO EMAIL   blank   1713370.0  \n",
       "65967  EMAIL PRESENT    male   5146615.0  \n",
       "\n",
       "[65968 rows x 11 columns]"
      ]
     },
     "execution_count": 22,
     "metadata": {},
     "output_type": "execute_result"
    }
   ],
   "source": [
    "df['Total_sale']= df.iloc[:,2:4].sum(axis=1)\n",
    "\n",
    "df"
   ]
  },
  {
   "cell_type": "code",
   "execution_count": 23,
   "id": "47365494",
   "metadata": {},
   "outputs": [
    {
     "data": {
      "text/plain": [
       "Index(['Customer id', 'App User', 'Covid19 Medicine Sales',\n",
       "       'Other Medicine Sales', 'Redeemed points Flag', 'Transactions',\n",
       "       'last transaction date', 'DOB', 'EMAIL Flag', 'Gender', 'Total_sale'],\n",
       "      dtype='object')"
      ]
     },
     "execution_count": 23,
     "metadata": {},
     "output_type": "execute_result"
    }
   ],
   "source": [
    "df.columns"
   ]
  },
  {
   "cell_type": "code",
   "execution_count": null,
   "id": "6f1d641d",
   "metadata": {},
   "outputs": [],
   "source": []
  },
  {
   "cell_type": "code",
   "execution_count": 24,
   "id": "7ccf2910",
   "metadata": {},
   "outputs": [
    {
     "data": {
      "text/html": [
       "<div>\n",
       "<style scoped>\n",
       "    .dataframe tbody tr th:only-of-type {\n",
       "        vertical-align: middle;\n",
       "    }\n",
       "\n",
       "    .dataframe tbody tr th {\n",
       "        vertical-align: top;\n",
       "    }\n",
       "\n",
       "    .dataframe thead th {\n",
       "        text-align: right;\n",
       "    }\n",
       "</style>\n",
       "<table border=\"1\" class=\"dataframe\">\n",
       "  <thead>\n",
       "    <tr style=\"text-align: right;\">\n",
       "      <th></th>\n",
       "      <th>App User</th>\n",
       "      <th>size</th>\n",
       "    </tr>\n",
       "  </thead>\n",
       "  <tbody>\n",
       "    <tr>\n",
       "      <th>0</th>\n",
       "      <td>0</td>\n",
       "      <td>49408</td>\n",
       "    </tr>\n",
       "    <tr>\n",
       "      <th>1</th>\n",
       "      <td>1</td>\n",
       "      <td>16560</td>\n",
       "    </tr>\n",
       "  </tbody>\n",
       "</table>\n",
       "</div>"
      ],
      "text/plain": [
       "   App User   size\n",
       "0         0  49408\n",
       "1         1  16560"
      ]
     },
     "execution_count": 24,
     "metadata": {},
     "output_type": "execute_result"
    }
   ],
   "source": [
    "df.groupby('App User',as_index=False).size()"
   ]
  },
  {
   "cell_type": "code",
   "execution_count": 25,
   "id": "6f383853",
   "metadata": {},
   "outputs": [
    {
     "data": {
      "text/html": [
       "<div>\n",
       "<style scoped>\n",
       "    .dataframe tbody tr th:only-of-type {\n",
       "        vertical-align: middle;\n",
       "    }\n",
       "\n",
       "    .dataframe tbody tr th {\n",
       "        vertical-align: top;\n",
       "    }\n",
       "\n",
       "    .dataframe thead th {\n",
       "        text-align: right;\n",
       "    }\n",
       "</style>\n",
       "<table border=\"1\" class=\"dataframe\">\n",
       "  <thead>\n",
       "    <tr style=\"text-align: right;\">\n",
       "      <th></th>\n",
       "      <th>App User</th>\n",
       "      <th>Covid19 Medicine Sales</th>\n",
       "    </tr>\n",
       "  </thead>\n",
       "  <tbody>\n",
       "    <tr>\n",
       "      <th>0</th>\n",
       "      <td>0</td>\n",
       "      <td>934048423.0</td>\n",
       "    </tr>\n",
       "    <tr>\n",
       "      <th>1</th>\n",
       "      <td>1</td>\n",
       "      <td>411518252.0</td>\n",
       "    </tr>\n",
       "  </tbody>\n",
       "</table>\n",
       "</div>"
      ],
      "text/plain": [
       "   App User  Covid19 Medicine Sales\n",
       "0         0             934048423.0\n",
       "1         1             411518252.0"
      ]
     },
     "execution_count": 25,
     "metadata": {},
     "output_type": "execute_result"
    }
   ],
   "source": [
    "df[df['Covid19 Medicine Sales']!=0].groupby('App User',as_index=False)['Covid19 Medicine Sales'].sum()"
   ]
  },
  {
   "cell_type": "code",
   "execution_count": 26,
   "id": "41202528",
   "metadata": {},
   "outputs": [],
   "source": [
    "\n",
    "# 1 The sales of Covid19 medicine through physical visit to the store/ phone call to the store/\n",
    "#   orders from alternate aggregators such as Amazon from the store is is about 934 million.\n",
    "\n",
    "# 2 sales through online app & web server is  411 million. \n"
   ]
  },
  {
   "cell_type": "code",
   "execution_count": 27,
   "id": "5cb2a0c3",
   "metadata": {},
   "outputs": [
    {
     "data": {
      "text/html": [
       "<div>\n",
       "<style scoped>\n",
       "    .dataframe tbody tr th:only-of-type {\n",
       "        vertical-align: middle;\n",
       "    }\n",
       "\n",
       "    .dataframe tbody tr th {\n",
       "        vertical-align: top;\n",
       "    }\n",
       "\n",
       "    .dataframe thead th {\n",
       "        text-align: right;\n",
       "    }\n",
       "</style>\n",
       "<table border=\"1\" class=\"dataframe\">\n",
       "  <thead>\n",
       "    <tr style=\"text-align: right;\">\n",
       "      <th></th>\n",
       "      <th>App User</th>\n",
       "      <th>Other Medicine Sales</th>\n",
       "    </tr>\n",
       "  </thead>\n",
       "  <tbody>\n",
       "    <tr>\n",
       "      <th>0</th>\n",
       "      <td>0</td>\n",
       "      <td>2.472175e+09</td>\n",
       "    </tr>\n",
       "    <tr>\n",
       "      <th>1</th>\n",
       "      <td>1</td>\n",
       "      <td>2.073739e+09</td>\n",
       "    </tr>\n",
       "  </tbody>\n",
       "</table>\n",
       "</div>"
      ],
      "text/plain": [
       "   App User  Other Medicine Sales\n",
       "0         0          2.472175e+09\n",
       "1         1          2.073739e+09"
      ]
     },
     "execution_count": 27,
     "metadata": {},
     "output_type": "execute_result"
    }
   ],
   "source": [
    "df[df['Other Medicine Sales']!=0].groupby('App User',as_index=False)['Other Medicine Sales'].sum()"
   ]
  },
  {
   "cell_type": "code",
   "execution_count": 28,
   "id": "dc99b68a",
   "metadata": {},
   "outputs": [],
   "source": [
    "# 1 The sales of other medicine through physical visit to the store/ phone call to the store/ \n",
    "#   orders from alternate aggregators such as Amazon from the store is  about  2.47 billion.\n",
    "# 2 The sales through online App & web server is 2.07 billion. "
   ]
  },
  {
   "cell_type": "code",
   "execution_count": 29,
   "id": "987664a3",
   "metadata": {},
   "outputs": [],
   "source": [
    "df['Average Sales Value']=round(df['Total_sale']/df['Transactions'],2)"
   ]
  },
  {
   "cell_type": "code",
   "execution_count": 30,
   "id": "06401541",
   "metadata": {},
   "outputs": [
    {
     "data": {
      "text/html": [
       "<div>\n",
       "<style scoped>\n",
       "    .dataframe tbody tr th:only-of-type {\n",
       "        vertical-align: middle;\n",
       "    }\n",
       "\n",
       "    .dataframe tbody tr th {\n",
       "        vertical-align: top;\n",
       "    }\n",
       "\n",
       "    .dataframe thead th {\n",
       "        text-align: right;\n",
       "    }\n",
       "</style>\n",
       "<table border=\"1\" class=\"dataframe\">\n",
       "  <thead>\n",
       "    <tr style=\"text-align: right;\">\n",
       "      <th></th>\n",
       "      <th>App User</th>\n",
       "      <th>Total_sale</th>\n",
       "      <th>Average Sales Value</th>\n",
       "    </tr>\n",
       "  </thead>\n",
       "  <tbody>\n",
       "    <tr>\n",
       "      <th>0</th>\n",
       "      <td>0</td>\n",
       "      <td>3.406223e+09</td>\n",
       "      <td>1.302624e+09</td>\n",
       "    </tr>\n",
       "    <tr>\n",
       "      <th>1</th>\n",
       "      <td>1</td>\n",
       "      <td>2.485257e+09</td>\n",
       "      <td>4.251738e+08</td>\n",
       "    </tr>\n",
       "  </tbody>\n",
       "</table>\n",
       "</div>"
      ],
      "text/plain": [
       "   App User    Total_sale  Average Sales Value\n",
       "0         0  3.406223e+09         1.302624e+09\n",
       "1         1  2.485257e+09         4.251738e+08"
      ]
     },
     "execution_count": 30,
     "metadata": {},
     "output_type": "execute_result"
    }
   ],
   "source": [
    "app=df[['Total_sale','App User','Average Sales Value']].groupby('App User',as_index=False).sum()\n",
    "\n",
    "app"
   ]
  },
  {
   "cell_type": "code",
   "execution_count": 31,
   "id": "6ee2fb68",
   "metadata": {},
   "outputs": [
    {
     "data": {
      "image/png": "[encoded data removed]",
      "text/plain": [
       "<Figure size 1080x360 with 2 Axes>"
      ]
     },
     "metadata": {
      "needs_background": "light"
     },
     "output_type": "display_data"
    }
   ],
   "source": [
    "plt.figure(figsize=(15,5))\n",
    "for i,col in enumerate(['Total_sale','Average Sales Value']):\n",
    "    plt.subplot(1,2,i+1)\n",
    "    sns.barplot(data=app,x='App User',y=col,palette='dark')"
   ]
  },
  {
   "cell_type": "code",
   "execution_count": 32,
   "id": "4d1383ae",
   "metadata": {},
   "outputs": [],
   "source": [
    "# Majority part of Total Sales and Average Sales Value is through physical visit to the store/\n",
    "# phone call to the store/ orders from alternate aggregators such as Amazon from the store."
   ]
  },
  {
   "cell_type": "code",
   "execution_count": null,
   "id": "26a8e07a",
   "metadata": {},
   "outputs": [],
   "source": []
  },
  {
   "cell_type": "code",
   "execution_count": 33,
   "id": "4925ec5d",
   "metadata": {},
   "outputs": [
    {
     "data": {
      "text/plain": [
       "Customer id                 int64\n",
       "App User                    int64\n",
       "Covid19 Medicine Sales    float64\n",
       "Other Medicine Sales      float64\n",
       "Redeemed points Flag       object\n",
       "Transactions                int64\n",
       "last transaction date      object\n",
       "DOB                        object\n",
       "EMAIL Flag                 object\n",
       "Gender                     object\n",
       "Total_sale                float64\n",
       "Average Sales Value       float64\n",
       "dtype: object"
      ]
     },
     "execution_count": 33,
     "metadata": {},
     "output_type": "execute_result"
    }
   ],
   "source": [
    "df.dtypes"
   ]
  },
  {
   "cell_type": "code",
   "execution_count": 34,
   "id": "008d55ca",
   "metadata": {},
   "outputs": [
    {
     "data": {
      "text/html": [
       "<div>\n",
       "<style scoped>\n",
       "    .dataframe tbody tr th:only-of-type {\n",
       "        vertical-align: middle;\n",
       "    }\n",
       "\n",
       "    .dataframe tbody tr th {\n",
       "        vertical-align: top;\n",
       "    }\n",
       "\n",
       "    .dataframe thead th {\n",
       "        text-align: right;\n",
       "    }\n",
       "</style>\n",
       "<table border=\"1\" class=\"dataframe\">\n",
       "  <thead>\n",
       "    <tr style=\"text-align: right;\">\n",
       "      <th></th>\n",
       "      <th>App User</th>\n",
       "      <th>Total_sale</th>\n",
       "      <th>Average Sales Value</th>\n",
       "    </tr>\n",
       "  </thead>\n",
       "  <tbody>\n",
       "    <tr>\n",
       "      <th>0</th>\n",
       "      <td>0</td>\n",
       "      <td>68940.727190</td>\n",
       "      <td>26364.633041</td>\n",
       "    </tr>\n",
       "    <tr>\n",
       "      <th>1</th>\n",
       "      <td>1</td>\n",
       "      <td>150075.919082</td>\n",
       "      <td>25674.746744</td>\n",
       "    </tr>\n",
       "  </tbody>\n",
       "</table>\n",
       "</div>"
      ],
      "text/plain": [
       "   App User     Total_sale  Average Sales Value\n",
       "0         0   68940.727190         26364.633041\n",
       "1         1  150075.919082         25674.746744"
      ]
     },
     "execution_count": 34,
     "metadata": {},
     "output_type": "execute_result"
    }
   ],
   "source": [
    "app_mean=df[['Total_sale','App User','Average Sales Value']].groupby('App User',as_index=False).mean()\n",
    "\n",
    "app_mean"
   ]
  },
  {
   "cell_type": "code",
   "execution_count": 35,
   "id": "2004a82b",
   "metadata": {},
   "outputs": [
    {
     "data": {
      "image/png": "[encoded data removed]",
      "text/plain": [
       "<Figure size 720x360 with 1 Axes>"
      ]
     },
     "metadata": {
      "needs_background": "light"
     },
     "output_type": "display_data"
    }
   ],
   "source": [
    "plt.figure(figsize=(10,5))\n",
    "ax= sns.barplot(data=app_mean,x='App User',y='Total_sale',palette='dark')\n",
    "\n",
    "for i in ax.containers:\n",
    "    ax.bar_label(i,)"
   ]
  },
  {
   "cell_type": "code",
   "execution_count": 36,
   "id": "5b167409",
   "metadata": {},
   "outputs": [],
   "source": [
    "# Inference\n",
    "\n",
    "# 1 Average total sales through app,web is about 68k.\n",
    "# 2 Average total sales throegh physical visit or store is about 150k."
   ]
  },
  {
   "cell_type": "code",
   "execution_count": 37,
   "id": "0a679c85",
   "metadata": {},
   "outputs": [],
   "source": [
    "gender=df[['Total_sale','Gender','Average Sales Value']].groupby('Gender',as_index=False).sum()"
   ]
  },
  {
   "cell_type": "code",
   "execution_count": 38,
   "id": "5d83bd29",
   "metadata": {},
   "outputs": [
    {
     "data": {
      "image/png": "[encoded data removed]",
      "text/plain": [
       "<Figure size 720x360 with 1 Axes>"
      ]
     },
     "metadata": {
      "needs_background": "light"
     },
     "output_type": "display_data"
    }
   ],
   "source": [
    "plt.figure(figsize=(10,5))\n",
    "\n",
    "ax=sns.barplot(data=gender,x='Gender',y='Total_sale',palette=\"hls\")\n",
    "\n",
    "for i in ax.containers:\n",
    "    ax.bar_label(i,)"
   ]
  },
  {
   "cell_type": "code",
   "execution_count": 39,
   "id": "86e3f1c6",
   "metadata": {},
   "outputs": [],
   "source": [
    "# Inference\n",
    "\n",
    "# 1. Customers who didn't disclose their gender contribute max to Total Sales.\n",
    "# 2. Among the Customers who shared their gender, Female customers have contributed majority to Total Sales."
   ]
  },
  {
   "cell_type": "code",
   "execution_count": 40,
   "id": "bb4f74a5",
   "metadata": {},
   "outputs": [
    {
     "data": {
      "text/html": [
       "<div>\n",
       "<style scoped>\n",
       "    .dataframe tbody tr th:only-of-type {\n",
       "        vertical-align: middle;\n",
       "    }\n",
       "\n",
       "    .dataframe tbody tr th {\n",
       "        vertical-align: top;\n",
       "    }\n",
       "\n",
       "    .dataframe thead th {\n",
       "        text-align: right;\n",
       "    }\n",
       "</style>\n",
       "<table border=\"1\" class=\"dataframe\">\n",
       "  <thead>\n",
       "    <tr style=\"text-align: right;\">\n",
       "      <th></th>\n",
       "      <th>Gender</th>\n",
       "      <th>Total_sale</th>\n",
       "    </tr>\n",
       "  </thead>\n",
       "  <tbody>\n",
       "    <tr>\n",
       "      <th>0</th>\n",
       "      <td>blank</td>\n",
       "      <td>67588.773029</td>\n",
       "    </tr>\n",
       "    <tr>\n",
       "      <th>1</th>\n",
       "      <td>female</td>\n",
       "      <td>146688.615728</td>\n",
       "    </tr>\n",
       "    <tr>\n",
       "      <th>2</th>\n",
       "      <td>male</td>\n",
       "      <td>155970.474019</td>\n",
       "    </tr>\n",
       "  </tbody>\n",
       "</table>\n",
       "</div>"
      ],
      "text/plain": [
       "   Gender     Total_sale\n",
       "0   blank   67588.773029\n",
       "1  female  146688.615728\n",
       "2    male  155970.474019"
      ]
     },
     "execution_count": 40,
     "metadata": {},
     "output_type": "execute_result"
    }
   ],
   "source": [
    "gender_mean=df[['Total_sale','Gender']].groupby('Gender',as_index=False).mean()\n",
    "gender_mean"
   ]
  },
  {
   "cell_type": "code",
   "execution_count": 41,
   "id": "381d8182",
   "metadata": {},
   "outputs": [
    {
     "data": {
      "image/png": "[encoded data removed]",
      "text/plain": [
       "<Figure size 720x360 with 1 Axes>"
      ]
     },
     "metadata": {
      "needs_background": "light"
     },
     "output_type": "display_data"
    }
   ],
   "source": [
    "plt.figure(figsize=(10,5))\n",
    "ax=sns.barplot(data=gender_mean,x='Gender',y='Total_sale',palette='hls')\n",
    "\n",
    "\n",
    "for i in ax.containers:\n",
    "    ax.bar_label(i,)\n",
    "\n",
    "    plt.show()"
   ]
  },
  {
   "cell_type": "code",
   "execution_count": 42,
   "id": "781c257d",
   "metadata": {},
   "outputs": [],
   "source": [
    "# Inferenece\n",
    "\n",
    "# Male and female customers both ahve almost same average Total sales."
   ]
  },
  {
   "cell_type": "code",
   "execution_count": 43,
   "id": "aa69fa9f",
   "metadata": {},
   "outputs": [
    {
     "data": {
      "text/html": [
       "<div>\n",
       "<style scoped>\n",
       "    .dataframe tbody tr th:only-of-type {\n",
       "        vertical-align: middle;\n",
       "    }\n",
       "\n",
       "    .dataframe tbody tr th {\n",
       "        vertical-align: top;\n",
       "    }\n",
       "\n",
       "    .dataframe thead th {\n",
       "        text-align: right;\n",
       "    }\n",
       "</style>\n",
       "<table border=\"1\" class=\"dataframe\">\n",
       "  <thead>\n",
       "    <tr style=\"text-align: right;\">\n",
       "      <th></th>\n",
       "      <th>Redeemed points Flag</th>\n",
       "      <th>Total_sale</th>\n",
       "    </tr>\n",
       "  </thead>\n",
       "  <tbody>\n",
       "    <tr>\n",
       "      <th>0</th>\n",
       "      <td>No</td>\n",
       "      <td>5.825639e+09</td>\n",
       "    </tr>\n",
       "    <tr>\n",
       "      <th>1</th>\n",
       "      <td>Yes</td>\n",
       "      <td>6.584175e+07</td>\n",
       "    </tr>\n",
       "  </tbody>\n",
       "</table>\n",
       "</div>"
      ],
      "text/plain": [
       "  Redeemed points Flag    Total_sale\n",
       "0                   No  5.825639e+09\n",
       "1                  Yes  6.584175e+07"
      ]
     },
     "execution_count": 43,
     "metadata": {},
     "output_type": "execute_result"
    }
   ],
   "source": [
    "red_flag=df[['Total_sale','Redeemed points Flag']].groupby('Redeemed points Flag',as_index=False).sum()\n",
    "\n",
    "red_flag"
   ]
  },
  {
   "cell_type": "code",
   "execution_count": 44,
   "id": "a13446b6",
   "metadata": {},
   "outputs": [
    {
     "data": {
      "text/plain": [
       "<AxesSubplot:xlabel='Redeemed points Flag', ylabel='Total_sale'>"
      ]
     },
     "execution_count": 44,
     "metadata": {},
     "output_type": "execute_result"
    },
    {
     "data": {
      "image/png": "[encoded data removed]",
      "text/plain": [
       "<Figure size 720x360 with 1 Axes>"
      ]
     },
     "metadata": {
      "needs_background": "light"
     },
     "output_type": "display_data"
    }
   ],
   "source": [
    "plt.figure(figsize=(10,5))\n",
    "sns.barplot(data=red_flag,x='Redeemed points Flag',y='Total_sale')"
   ]
  },
  {
   "cell_type": "code",
   "execution_count": 45,
   "id": "43d20454",
   "metadata": {},
   "outputs": [],
   "source": [
    "## Majority of Total Sales is from regular pricing"
   ]
  },
  {
   "cell_type": "code",
   "execution_count": 46,
   "id": "550eb4bd",
   "metadata": {},
   "outputs": [
    {
     "data": {
      "text/html": [
       "<div>\n",
       "<style scoped>\n",
       "    .dataframe tbody tr th:only-of-type {\n",
       "        vertical-align: middle;\n",
       "    }\n",
       "\n",
       "    .dataframe tbody tr th {\n",
       "        vertical-align: top;\n",
       "    }\n",
       "\n",
       "    .dataframe thead th {\n",
       "        text-align: right;\n",
       "    }\n",
       "</style>\n",
       "<table border=\"1\" class=\"dataframe\">\n",
       "  <thead>\n",
       "    <tr style=\"text-align: right;\">\n",
       "      <th></th>\n",
       "      <th>Redeemed points Flag</th>\n",
       "      <th>Total_sale</th>\n",
       "    </tr>\n",
       "  </thead>\n",
       "  <tbody>\n",
       "    <tr>\n",
       "      <th>0</th>\n",
       "      <td>No</td>\n",
       "      <td>88526.128208</td>\n",
       "    </tr>\n",
       "    <tr>\n",
       "      <th>1</th>\n",
       "      <td>Yes</td>\n",
       "      <td>408954.968944</td>\n",
       "    </tr>\n",
       "  </tbody>\n",
       "</table>\n",
       "</div>"
      ],
      "text/plain": [
       "  Redeemed points Flag     Total_sale\n",
       "0                   No   88526.128208\n",
       "1                  Yes  408954.968944"
      ]
     },
     "execution_count": 46,
     "metadata": {},
     "output_type": "execute_result"
    }
   ],
   "source": [
    "red_flag_mean=df[['Total_sale','Redeemed points Flag']].groupby('Redeemed points Flag',as_index=False).mean()\n",
    "red_flag_mean\n"
   ]
  },
  {
   "cell_type": "code",
   "execution_count": 47,
   "id": "0e608004",
   "metadata": {},
   "outputs": [
    {
     "data": {
      "text/plain": [
       "<AxesSubplot:xlabel='Other Medicine Sales', ylabel='Total_sale'>"
      ]
     },
     "execution_count": 47,
     "metadata": {},
     "output_type": "execute_result"
    },
    {
     "data": {
      "image/png": "[encoded data removed]",
      "text/plain": [
       "<Figure size 720x720 with 1 Axes>"
      ]
     },
     "metadata": {
      "needs_background": "light"
     },
     "output_type": "display_data"
    }
   ],
   "source": [
    "plt.figure(figsize=(10,10))\n",
    "sns.scatterplot(data=df, x=\"Other Medicine Sales\", y=\"Total_sale\",s=100, color=\".2\", marker=\"*\")"
   ]
  },
  {
   "cell_type": "code",
   "execution_count": 48,
   "id": "17533658",
   "metadata": {},
   "outputs": [],
   "source": [
    "# Inference\n",
    "# Other Medicine Sales and Total Sales have a positive correlation."
   ]
  },
  {
   "cell_type": "code",
   "execution_count": 49,
   "id": "dc16c2a6",
   "metadata": {},
   "outputs": [
    {
     "data": {
      "text/plain": [
       "<AxesSubplot:xlabel='Covid19 Medicine Sales', ylabel='Total_sale'>"
      ]
     },
     "execution_count": 49,
     "metadata": {},
     "output_type": "execute_result"
    },
    {
     "data": {
      "image/png": "[encoded data removed]",
      "text/plain": [
       "<Figure size 720x720 with 1 Axes>"
      ]
     },
     "metadata": {
      "needs_background": "light"
     },
     "output_type": "display_data"
    }
   ],
   "source": [
    "plt.figure(figsize=(10,10))\n",
    "sns.scatterplot(data=df, x='Covid19 Medicine Sales', y=\"Total_sale\",s=100, color=\".3\", marker=\"*\")"
   ]
  },
  {
   "cell_type": "code",
   "execution_count": 50,
   "id": "f6e00cbb",
   "metadata": {},
   "outputs": [],
   "source": [
    "# Inference\n",
    "#  Covid19 Medicine Sales and Total Sales have a positive correlation."
   ]
  },
  {
   "cell_type": "code",
   "execution_count": 51,
   "id": "870b5a8d",
   "metadata": {},
   "outputs": [
    {
     "data": {
      "text/plain": [
       "<AxesSubplot:xlabel='Transactions', ylabel='Total_sale'>"
      ]
     },
     "execution_count": 51,
     "metadata": {},
     "output_type": "execute_result"
    },
    {
     "data": {
      "image/png": "[encoded data removed]",
      "text/plain": [
       "<Figure size 720x720 with 1 Axes>"
      ]
     },
     "metadata": {
      "needs_background": "light"
     },
     "output_type": "display_data"
    }
   ],
   "source": [
    "plt.figure(figsize=(10,10))\n",
    "sns.scatterplot(data=df, x='Transactions', y=\"Total_sale\",s=100, color=\".3\", marker=\"*\")"
   ]
  },
  {
   "cell_type": "code",
   "execution_count": 52,
   "id": "02dbdfd6",
   "metadata": {},
   "outputs": [],
   "source": [
    "# There is low positive correlation of total sales to transactions."
   ]
  },
  {
   "cell_type": "code",
   "execution_count": 53,
   "id": "2a6d72ce",
   "metadata": {},
   "outputs": [
    {
     "data": {
      "text/plain": [
       "231275"
      ]
     },
     "execution_count": 53,
     "metadata": {},
     "output_type": "execute_result"
    }
   ],
   "source": [
    "df['Transactions'].sum()"
   ]
  },
  {
   "cell_type": "code",
   "execution_count": 54,
   "id": "b3f3a8f9",
   "metadata": {},
   "outputs": [
    {
     "data": {
      "text/html": [
       "<div>\n",
       "<style scoped>\n",
       "    .dataframe tbody tr th:only-of-type {\n",
       "        vertical-align: middle;\n",
       "    }\n",
       "\n",
       "    .dataframe tbody tr th {\n",
       "        vertical-align: top;\n",
       "    }\n",
       "\n",
       "    .dataframe thead th {\n",
       "        text-align: right;\n",
       "    }\n",
       "</style>\n",
       "<table border=\"1\" class=\"dataframe\">\n",
       "  <thead>\n",
       "    <tr style=\"text-align: right;\">\n",
       "      <th></th>\n",
       "      <th>Customer id</th>\n",
       "      <th>App User</th>\n",
       "      <th>Covid19 Medicine Sales</th>\n",
       "      <th>Other Medicine Sales</th>\n",
       "      <th>Redeemed points Flag</th>\n",
       "      <th>Transactions</th>\n",
       "      <th>last transaction date</th>\n",
       "      <th>DOB</th>\n",
       "      <th>EMAIL Flag</th>\n",
       "      <th>Gender</th>\n",
       "      <th>Total_sale</th>\n",
       "      <th>Average Sales Value</th>\n",
       "    </tr>\n",
       "  </thead>\n",
       "  <tbody>\n",
       "    <tr>\n",
       "      <th>0</th>\n",
       "      <td>863268612</td>\n",
       "      <td>1</td>\n",
       "      <td>22035.0</td>\n",
       "      <td>0.0</td>\n",
       "      <td>No</td>\n",
       "      <td>11</td>\n",
       "      <td>12-11-2021</td>\n",
       "      <td>00-01-1900</td>\n",
       "      <td>EMAIL PRESENT</td>\n",
       "      <td>female</td>\n",
       "      <td>22035.0</td>\n",
       "      <td>2003.18</td>\n",
       "    </tr>\n",
       "    <tr>\n",
       "      <th>1</th>\n",
       "      <td>389739561</td>\n",
       "      <td>0</td>\n",
       "      <td>3926.0</td>\n",
       "      <td>4099.0</td>\n",
       "      <td>No</td>\n",
       "      <td>4</td>\n",
       "      <td>25-11-2021</td>\n",
       "      <td>00-01-1900</td>\n",
       "      <td>NO EMAIL</td>\n",
       "      <td>blank</td>\n",
       "      <td>8025.0</td>\n",
       "      <td>2006.25</td>\n",
       "    </tr>\n",
       "    <tr>\n",
       "      <th>2</th>\n",
       "      <td>446950605</td>\n",
       "      <td>0</td>\n",
       "      <td>8031.0</td>\n",
       "      <td>0.0</td>\n",
       "      <td>No</td>\n",
       "      <td>4</td>\n",
       "      <td>11-10-2021</td>\n",
       "      <td>00-01-1900</td>\n",
       "      <td>NO EMAIL</td>\n",
       "      <td>blank</td>\n",
       "      <td>8031.0</td>\n",
       "      <td>2007.75</td>\n",
       "    </tr>\n",
       "    <tr>\n",
       "      <th>3</th>\n",
       "      <td>819143842</td>\n",
       "      <td>0</td>\n",
       "      <td>8046.0</td>\n",
       "      <td>0.0</td>\n",
       "      <td>No</td>\n",
       "      <td>4</td>\n",
       "      <td>28-06-2021</td>\n",
       "      <td>00-01-1900</td>\n",
       "      <td>NO EMAIL</td>\n",
       "      <td>blank</td>\n",
       "      <td>8046.0</td>\n",
       "      <td>2011.50</td>\n",
       "    </tr>\n",
       "    <tr>\n",
       "      <th>4</th>\n",
       "      <td>530569572</td>\n",
       "      <td>0</td>\n",
       "      <td>8046.0</td>\n",
       "      <td>0.0</td>\n",
       "      <td>No</td>\n",
       "      <td>4</td>\n",
       "      <td>18-11-2021</td>\n",
       "      <td>00-01-1900</td>\n",
       "      <td>NO EMAIL</td>\n",
       "      <td>blank</td>\n",
       "      <td>8046.0</td>\n",
       "      <td>2011.50</td>\n",
       "    </tr>\n",
       "    <tr>\n",
       "      <th>...</th>\n",
       "      <td>...</td>\n",
       "      <td>...</td>\n",
       "      <td>...</td>\n",
       "      <td>...</td>\n",
       "      <td>...</td>\n",
       "      <td>...</td>\n",
       "      <td>...</td>\n",
       "      <td>...</td>\n",
       "      <td>...</td>\n",
       "      <td>...</td>\n",
       "      <td>...</td>\n",
       "      <td>...</td>\n",
       "    </tr>\n",
       "    <tr>\n",
       "      <th>65963</th>\n",
       "      <td>848749306</td>\n",
       "      <td>0</td>\n",
       "      <td>0.0</td>\n",
       "      <td>1114341.0</td>\n",
       "      <td>No</td>\n",
       "      <td>1</td>\n",
       "      <td>12-09-2021</td>\n",
       "      <td>00-01-1900</td>\n",
       "      <td>EMAIL PRESENT</td>\n",
       "      <td>blank</td>\n",
       "      <td>1114341.0</td>\n",
       "      <td>1114341.00</td>\n",
       "    </tr>\n",
       "    <tr>\n",
       "      <th>65964</th>\n",
       "      <td>682210238</td>\n",
       "      <td>0</td>\n",
       "      <td>0.0</td>\n",
       "      <td>1249095.0</td>\n",
       "      <td>No</td>\n",
       "      <td>1</td>\n",
       "      <td>19-11-2021</td>\n",
       "      <td>00-01-1900</td>\n",
       "      <td>NO EMAIL</td>\n",
       "      <td>blank</td>\n",
       "      <td>1249095.0</td>\n",
       "      <td>1249095.00</td>\n",
       "    </tr>\n",
       "    <tr>\n",
       "      <th>65965</th>\n",
       "      <td>645430745</td>\n",
       "      <td>0</td>\n",
       "      <td>0.0</td>\n",
       "      <td>1496487.0</td>\n",
       "      <td>No</td>\n",
       "      <td>1</td>\n",
       "      <td>06-09-2021</td>\n",
       "      <td>00-01-1900</td>\n",
       "      <td>NO EMAIL</td>\n",
       "      <td>blank</td>\n",
       "      <td>1496487.0</td>\n",
       "      <td>1496487.00</td>\n",
       "    </tr>\n",
       "    <tr>\n",
       "      <th>65966</th>\n",
       "      <td>893585748</td>\n",
       "      <td>0</td>\n",
       "      <td>0.0</td>\n",
       "      <td>1713370.0</td>\n",
       "      <td>No</td>\n",
       "      <td>1</td>\n",
       "      <td>27-09-2021</td>\n",
       "      <td>00-01-1900</td>\n",
       "      <td>NO EMAIL</td>\n",
       "      <td>blank</td>\n",
       "      <td>1713370.0</td>\n",
       "      <td>1713370.00</td>\n",
       "    </tr>\n",
       "    <tr>\n",
       "      <th>65967</th>\n",
       "      <td>423162203</td>\n",
       "      <td>1</td>\n",
       "      <td>5146615.0</td>\n",
       "      <td>0.0</td>\n",
       "      <td>No</td>\n",
       "      <td>1</td>\n",
       "      <td>17-12-2020</td>\n",
       "      <td>00-01-1900</td>\n",
       "      <td>EMAIL PRESENT</td>\n",
       "      <td>male</td>\n",
       "      <td>5146615.0</td>\n",
       "      <td>5146615.00</td>\n",
       "    </tr>\n",
       "  </tbody>\n",
       "</table>\n",
       "<p>65968 rows × 12 columns</p>\n",
       "</div>"
      ],
      "text/plain": [
       "       Customer id  App User  Covid19 Medicine Sales  Other Medicine Sales  \\\n",
       "0        863268612         1                 22035.0                   0.0   \n",
       "1        389739561         0                  3926.0                4099.0   \n",
       "2        446950605         0                  8031.0                   0.0   \n",
       "3        819143842         0                  8046.0                   0.0   \n",
       "4        530569572         0                  8046.0                   0.0   \n",
       "...            ...       ...                     ...                   ...   \n",
       "65963    848749306         0                     0.0             1114341.0   \n",
       "65964    682210238         0                     0.0             1249095.0   \n",
       "65965    645430745         0                     0.0             1496487.0   \n",
       "65966    893585748         0                     0.0             1713370.0   \n",
       "65967    423162203         1               5146615.0                   0.0   \n",
       "\n",
       "      Redeemed points Flag  Transactions last transaction date         DOB  \\\n",
       "0                       No            11            12-11-2021  00-01-1900   \n",
       "1                       No             4            25-11-2021  00-01-1900   \n",
       "2                       No             4            11-10-2021  00-01-1900   \n",
       "3                       No             4            28-06-2021  00-01-1900   \n",
       "4                       No             4            18-11-2021  00-01-1900   \n",
       "...                    ...           ...                   ...         ...   \n",
       "65963                   No             1            12-09-2021  00-01-1900   \n",
       "65964                   No             1            19-11-2021  00-01-1900   \n",
       "65965                   No             1            06-09-2021  00-01-1900   \n",
       "65966                   No             1            27-09-2021  00-01-1900   \n",
       "65967                   No             1            17-12-2020  00-01-1900   \n",
       "\n",
       "          EMAIL Flag  Gender  Total_sale  Average Sales Value  \n",
       "0      EMAIL PRESENT  female     22035.0              2003.18  \n",
       "1           NO EMAIL   blank      8025.0              2006.25  \n",
       "2           NO EMAIL   blank      8031.0              2007.75  \n",
       "3           NO EMAIL   blank      8046.0              2011.50  \n",
       "4           NO EMAIL   blank      8046.0              2011.50  \n",
       "...              ...     ...         ...                  ...  \n",
       "65963  EMAIL PRESENT   blank   1114341.0           1114341.00  \n",
       "65964       NO EMAIL   blank   1249095.0           1249095.00  \n",
       "65965       NO EMAIL   blank   1496487.0           1496487.00  \n",
       "65966       NO EMAIL   blank   1713370.0           1713370.00  \n",
       "65967  EMAIL PRESENT    male   5146615.0           5146615.00  \n",
       "\n",
       "[65968 rows x 12 columns]"
      ]
     },
     "execution_count": 54,
     "metadata": {},
     "output_type": "execute_result"
    }
   ],
   "source": [
    "df"
   ]
  },
  {
   "cell_type": "code",
   "execution_count": null,
   "id": "46056272",
   "metadata": {},
   "outputs": [],
   "source": []
  },
  {
   "cell_type": "code",
   "execution_count": 55,
   "id": "c105a04a",
   "metadata": {},
   "outputs": [
    {
     "data": {
      "text/plain": [
       "Customer id\n",
       "58583079     28912831.0\n",
       "785179211    22005229.0\n",
       "288867385    15783562.0\n",
       "790144670    14306821.0\n",
       "326868858    13808783.0\n",
       "                ...    \n",
       "772797550        7979.0\n",
       "193521551        7977.0\n",
       "112031235        7975.0\n",
       "233138042        7971.0\n",
       "708023838        7971.0\n",
       "Name: Total_sale, Length: 65967, dtype: float64"
      ]
     },
     "execution_count": 55,
     "metadata": {},
     "output_type": "execute_result"
    }
   ],
   "source": [
    "df.groupby('Customer id')['Total_sale'].sum().sort_values(ascending=False)"
   ]
  },
  {
   "cell_type": "code",
   "execution_count": 56,
   "id": "c6683993",
   "metadata": {},
   "outputs": [],
   "source": [
    "# # Customers having high number of transactions.\n",
    "# 1. 132289856     \n",
    "# 2. 58583079      \n",
    "# 3. 90752998     \n",
    "# 4. 560615311     \n"
   ]
  },
  {
   "cell_type": "code",
   "execution_count": 57,
   "id": "538fd50a",
   "metadata": {},
   "outputs": [
    {
     "data": {
      "text/html": [
       "<div>\n",
       "<style scoped>\n",
       "    .dataframe tbody tr th:only-of-type {\n",
       "        vertical-align: middle;\n",
       "    }\n",
       "\n",
       "    .dataframe tbody tr th {\n",
       "        vertical-align: top;\n",
       "    }\n",
       "\n",
       "    .dataframe thead th {\n",
       "        text-align: right;\n",
       "    }\n",
       "</style>\n",
       "<table border=\"1\" class=\"dataframe\">\n",
       "  <thead>\n",
       "    <tr style=\"text-align: right;\">\n",
       "      <th></th>\n",
       "      <th>Customer id</th>\n",
       "      <th>App User</th>\n",
       "      <th>Covid19 Medicine Sales</th>\n",
       "      <th>Other Medicine Sales</th>\n",
       "      <th>Redeemed points Flag</th>\n",
       "      <th>Transactions</th>\n",
       "      <th>last transaction date</th>\n",
       "      <th>DOB</th>\n",
       "      <th>EMAIL Flag</th>\n",
       "      <th>Gender</th>\n",
       "      <th>Total_sale</th>\n",
       "      <th>Average Sales Value</th>\n",
       "    </tr>\n",
       "  </thead>\n",
       "  <tbody>\n",
       "    <tr>\n",
       "      <th>25186</th>\n",
       "      <td>132289856</td>\n",
       "      <td>1</td>\n",
       "      <td>4294.0</td>\n",
       "      <td>3020320.0</td>\n",
       "      <td>No</td>\n",
       "      <td>268</td>\n",
       "      <td>28-11-2021</td>\n",
       "      <td>22-09-1993</td>\n",
       "      <td>EMAIL PRESENT</td>\n",
       "      <td>male</td>\n",
       "      <td>3024614.0</td>\n",
       "      <td>11285.87</td>\n",
       "    </tr>\n",
       "    <tr>\n",
       "      <th>64431</th>\n",
       "      <td>58583079</td>\n",
       "      <td>1</td>\n",
       "      <td>18847.0</td>\n",
       "      <td>28893984.0</td>\n",
       "      <td>Yes</td>\n",
       "      <td>202</td>\n",
       "      <td>30-11-2021</td>\n",
       "      <td>26-10-1980</td>\n",
       "      <td>EMAIL PRESENT</td>\n",
       "      <td>female</td>\n",
       "      <td>28912831.0</td>\n",
       "      <td>143132.83</td>\n",
       "    </tr>\n",
       "  </tbody>\n",
       "</table>\n",
       "</div>"
      ],
      "text/plain": [
       "       Customer id  App User  Covid19 Medicine Sales  Other Medicine Sales  \\\n",
       "25186    132289856         1                  4294.0             3020320.0   \n",
       "64431     58583079         1                 18847.0            28893984.0   \n",
       "\n",
       "      Redeemed points Flag  Transactions last transaction date         DOB  \\\n",
       "25186                   No           268            28-11-2021  22-09-1993   \n",
       "64431                  Yes           202            30-11-2021  26-10-1980   \n",
       "\n",
       "          EMAIL Flag  Gender  Total_sale  Average Sales Value  \n",
       "25186  EMAIL PRESENT    male   3024614.0             11285.87  \n",
       "64431  EMAIL PRESENT  female  28912831.0            143132.83  "
      ]
     },
     "execution_count": 57,
     "metadata": {},
     "output_type": "execute_result"
    }
   ],
   "source": [
    "df[(df['Customer id']==132289856) | (df['Customer id']==58583079)]"
   ]
  },
  {
   "cell_type": "code",
   "execution_count": 58,
   "id": "91c3ec2a",
   "metadata": {},
   "outputs": [],
   "source": [
    "# CustomerId:132289856 has done maximum number of transactions but havent used his loyalty points\n",
    "# and he uses app-web for orders."
   ]
  },
  {
   "cell_type": "code",
   "execution_count": 59,
   "id": "c7a42ef0",
   "metadata": {},
   "outputs": [],
   "source": [
    "# CustomerId:58583079 is loyal as well as spending highest amount on our products\n",
    "# So it would be best to call her for interview."
   ]
  },
  {
   "cell_type": "code",
   "execution_count": 60,
   "id": "f93ea1c5",
   "metadata": {},
   "outputs": [
    {
     "data": {
      "text/html": [
       "<div>\n",
       "<style scoped>\n",
       "    .dataframe tbody tr th:only-of-type {\n",
       "        vertical-align: middle;\n",
       "    }\n",
       "\n",
       "    .dataframe tbody tr th {\n",
       "        vertical-align: top;\n",
       "    }\n",
       "\n",
       "    .dataframe thead th {\n",
       "        text-align: right;\n",
       "    }\n",
       "</style>\n",
       "<table border=\"1\" class=\"dataframe\">\n",
       "  <thead>\n",
       "    <tr style=\"text-align: right;\">\n",
       "      <th></th>\n",
       "      <th>App User</th>\n",
       "      <th>Transactions</th>\n",
       "    </tr>\n",
       "  </thead>\n",
       "  <tbody>\n",
       "    <tr>\n",
       "      <th>0</th>\n",
       "      <td>0</td>\n",
       "      <td>139055</td>\n",
       "    </tr>\n",
       "    <tr>\n",
       "      <th>1</th>\n",
       "      <td>1</td>\n",
       "      <td>92220</td>\n",
       "    </tr>\n",
       "  </tbody>\n",
       "</table>\n",
       "</div>"
      ],
      "text/plain": [
       "   App User  Transactions\n",
       "0         0        139055\n",
       "1         1         92220"
      ]
     },
     "execution_count": 60,
     "metadata": {},
     "output_type": "execute_result"
    }
   ],
   "source": [
    "df[['Transactions','App User']].groupby('App User',as_index=False).sum()"
   ]
  },
  {
   "cell_type": "code",
   "execution_count": 61,
   "id": "8857bdb8",
   "metadata": {},
   "outputs": [
    {
     "data": {
      "text/plain": [
       "Transactions\n",
       "2      17579\n",
       "1      16264\n",
       "3      10741\n",
       "4       6735\n",
       "5       4202\n",
       "       ...  \n",
       "43         1\n",
       "57         1\n",
       "44         1\n",
       "202        1\n",
       "96         1\n",
       "Length: 71, dtype: int64"
      ]
     },
     "execution_count": 61,
     "metadata": {},
     "output_type": "execute_result"
    }
   ],
   "source": [
    "#Most frequently occurring average transaction value \n",
    "df['Transactions']=df['Transactions'].astype('str')\n",
    "df.groupby('Transactions').size().sort_values(ascending=False)"
   ]
  },
  {
   "cell_type": "code",
   "execution_count": 62,
   "id": "c1575536",
   "metadata": {},
   "outputs": [
    {
     "data": {
      "text/plain": [
       "26.79"
      ]
     },
     "execution_count": 62,
     "metadata": {},
     "output_type": "execute_result"
    }
   ],
   "source": [
    "#Percentage of customer’s Genders have been captured in overall data.\n",
    "\n",
    "round(len(df[df['Gender']!='blank'])/len(df)*100,2)"
   ]
  },
  {
   "cell_type": "code",
   "execution_count": 63,
   "id": "ea7f6ddd",
   "metadata": {},
   "outputs": [
    {
     "data": {
      "text/plain": [
       "array(['00-01-1900', '12-11-1975', '09-08-1994', ..., '22-09-1988',\n",
       "       '04-12-1979', '17-10-1966'], dtype=object)"
      ]
     },
     "execution_count": 63,
     "metadata": {},
     "output_type": "execute_result"
    }
   ],
   "source": [
    "df['DOB'].unique()"
   ]
  },
  {
   "cell_type": "code",
   "execution_count": 64,
   "id": "ae076520",
   "metadata": {},
   "outputs": [
    {
     "data": {
      "text/plain": [
       "43.6"
      ]
     },
     "execution_count": 64,
     "metadata": {},
     "output_type": "execute_result"
    }
   ],
   "source": [
    "#Percentage of customer’s Emails have been captured in overall data.\n",
    "\n",
    "\n",
    "round(len(df[df['EMAIL Flag']!='NO EMAIL'])/len(df)*100,2)"
   ]
  },
  {
   "cell_type": "code",
   "execution_count": null,
   "id": "bc1cfb0e",
   "metadata": {},
   "outputs": [],
   "source": []
  },
  {
   "cell_type": "code",
   "execution_count": 65,
   "id": "326e74f0",
   "metadata": {},
   "outputs": [
    {
     "data": {
      "text/plain": [
       "3.57"
      ]
     },
     "execution_count": 65,
     "metadata": {},
     "output_type": "execute_result"
    }
   ],
   "source": [
    "#Percentage of customer’s Birthdates have been captured in overall data.\n",
    "\n",
    "round(len(df[df['DOB']!='00-01-1900'])/len(df)*100,2)"
   ]
  },
  {
   "cell_type": "code",
   "execution_count": 66,
   "id": "ab091bbb",
   "metadata": {},
   "outputs": [
    {
     "data": {
      "text/plain": [
       "22.84"
      ]
     },
     "execution_count": 66,
     "metadata": {},
     "output_type": "execute_result"
    }
   ],
   "source": [
    "#Contribution percentage of sale from Covid related medicines to total revenue \n",
    "\n",
    "round(df['Covid19 Medicine Sales'].sum()/df['Total_sale'].sum()*100,2)"
   ]
  },
  {
   "cell_type": "code",
   "execution_count": 67,
   "id": "b8ee77a1",
   "metadata": {},
   "outputs": [
    {
     "data": {
      "text/plain": [
       "25.1"
      ]
     },
     "execution_count": 67,
     "metadata": {},
     "output_type": "execute_result"
    }
   ],
   "source": [
    "round(len(df[df['App User']==1])/len(df)*100,1)\n",
    "\n"
   ]
  },
  {
   "cell_type": "code",
   "execution_count": 68,
   "id": "9ce49490",
   "metadata": {},
   "outputs": [
    {
     "data": {
      "text/plain": [
       "5891480669.0"
      ]
     },
     "execution_count": 68,
     "metadata": {},
     "output_type": "execute_result"
    }
   ],
   "source": [
    "# Total no. of sales done\n",
    "\n",
    "df['Total_sale'].sum()"
   ]
  },
  {
   "cell_type": "code",
   "execution_count": null,
   "id": "56aabfe4",
   "metadata": {},
   "outputs": [],
   "source": []
  },
  {
   "cell_type": "code",
   "execution_count": 73,
   "id": "239b1a61",
   "metadata": {},
   "outputs": [
    {
     "data": {
      "text/plain": [
       "231275"
      ]
     },
     "execution_count": 73,
     "metadata": {},
     "output_type": "execute_result"
    }
   ],
   "source": [
    "## Total no. of transactions done\n",
    "\n",
    "df['Transactions']=df['Transactions'].astype('int')\n",
    "y=df['Transactions'].sum()\n",
    "y"
   ]
  },
  {
   "cell_type": "code",
   "execution_count": 70,
   "id": "89d5e62f",
   "metadata": {},
   "outputs": [],
   "source": [
    "\n",
    "app1=df[df['App User']==1]\n"
   ]
  },
  {
   "cell_type": "code",
   "execution_count": 74,
   "id": "16f2fc62",
   "metadata": {},
   "outputs": [
    {
     "data": {
      "text/plain": [
       "2485257220.0"
      ]
     },
     "execution_count": 74,
     "metadata": {},
     "output_type": "execute_result"
    }
   ],
   "source": [
    "## total sale through app user\n",
    "x=app1['Total_sale'].sum()\n",
    "x"
   ]
  },
  {
   "cell_type": "code",
   "execution_count": 72,
   "id": "b09d5ad8",
   "metadata": {},
   "outputs": [
    {
     "name": "stdout",
     "output_type": "stream",
     "text": [
      "10745.896530104854\n"
     ]
    }
   ],
   "source": [
    "print(x/y)"
   ]
  },
  {
   "cell_type": "code",
   "execution_count": null,
   "id": "c2b9d201",
   "metadata": {},
   "outputs": [],
   "source": []
  },
  {
   "cell_type": "code",
   "execution_count": null,
   "id": "963a13b9",
   "metadata": {},
   "outputs": [],
   "source": []
  },
  {
   "cell_type": "code",
   "execution_count": null,
   "id": "4f590e83",
   "metadata": {},
   "outputs": [],
   "source": []
  }
 ],
 "metadata": {
  "kernelspec": {
   "display_name": "Python 3 (ipykernel)",
   "language": "python",
   "name": "python3"
  },
  "language_info": {
   "codemirror_mode": {
    "name": "ipython",
    "version": 3
   },
   "file_extension": ".py",
   "mimetype": "text/x-python",
   "name": "python",
   "nbconvert_exporter": "python",
   "pygments_lexer": "ipython3",
   "version": "3.9.12"
  }
 },
 "nbformat": 4,
 "nbformat_minor": 5
}
